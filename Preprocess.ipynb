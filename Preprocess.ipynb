{
   "cells": [
      {
         "cell_type": "code",
         "execution_count": 1,
         "metadata": {},
         "outputs": [],
         "source": [
            "import numpy as np\n",
            "from datasets import load_dataset\n",
            "\n",
            "from src.preprocess import preprare_data_from_ds, generate_silence"
         ]
      },
      {
         "cell_type": "code",
         "execution_count": null,
         "metadata": {},
         "outputs": [],
         "source": [
            "generate_silence(silence_path=\"data/train/audio/_background_noise_\")"
         ]
      },
      {
         "cell_type": "code",
         "execution_count": null,
         "metadata": {},
         "outputs": [],
         "source": [
            "# preprocess_and_save(plot_samples=True)"
         ]
      },
      {
         "cell_type": "markdown",
         "metadata": {},
         "source": [
            "Load, preprocess, and save data from datasets library"
         ]
      },
      {
         "cell_type": "code",
         "execution_count": 2,
         "metadata": {},
         "outputs": [],
         "source": [
            "dataset = load_dataset(\"speech_commands\", \"v0.01\")"
         ]
      },
      {
         "cell_type": "code",
         "execution_count": 3,
         "metadata": {},
         "outputs": [
            {
               "name": "stderr",
               "output_type": "stream",
               "text": [
                  "Processing...: 100%|██████████| 51093/51093 [06:09<00:00, 138.45it/s]\n",
                  "Processing...: 100%|██████████| 6799/6799 [00:53<00:00, 127.34it/s]\n",
                  "Processing...: 100%|██████████| 3081/3081 [00:26<00:00, 116.34it/s]\n"
               ]
            }
         ],
         "source": [
            "X_train, y_train = preprare_data_from_ds(dataset[\"train\"])\n",
            "X_val, y_val = preprare_data_from_ds(dataset[\"validation\"])\n",
            "X_test, y_test = preprare_data_from_ds(dataset[\"test\"])"
         ]
      },
      {
         "cell_type": "code",
         "execution_count": 4,
         "metadata": {},
         "outputs": [],
         "source": [
            "with open(\"sound.npy\", \"wb\") as f:\n",
            "    np.save(f, X_train)"
         ]
      },
      {
         "cell_type": "code",
         "execution_count": 8,
         "metadata": {},
         "outputs": [],
         "source": [
            "np.save('data/arrays/X_train.npy', X_train)\n",
            "np.save('data/arrays/y_train.npy', y_train)\n",
            "np.save('data/arrays/X_val.npy', X_val)\n",
            "np.save('data/arrays/y_val.npy', y_val)\n",
            "np.save('data/arrays/X_test.npy', X_test)\n",
            "np.save('data/arrays/y_test.npy', y_test)"
         ]
      }
   ],
   "metadata": {
      "kernelspec": {
         "display_name": "dl2",
         "language": "python",
         "name": "python3"
      },
      "language_info": {
         "codemirror_mode": {
            "name": "ipython",
            "version": 3
         },
         "file_extension": ".py",
         "mimetype": "text/x-python",
         "name": "python",
         "nbconvert_exporter": "python",
         "pygments_lexer": "ipython3",
         "version": "3.10.14"
      }
   },
   "nbformat": 4,
   "nbformat_minor": 2
}
