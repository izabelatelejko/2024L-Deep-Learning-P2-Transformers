{
 "cells": [
  {
   "cell_type": "code",
   "execution_count": 166,
   "metadata": {},
   "outputs": [],
   "source": [
    "import pandas as pd\n",
    "import numpy as np\n",
    "from scipy.io import wavfile\n",
    "import matplotlib.pyplot as plt\n",
    "import os\n",
    "from tqdm import tqdm\n",
    "import librosa\n",
    "from scipy.signal import butter, filtfilt\n",
    "import tensorflow as tf"
   ]
  },
  {
   "cell_type": "code",
   "execution_count": 171,
   "metadata": {},
   "outputs": [
    {
     "name": "stdout",
     "output_type": "stream",
     "text": [
      "Found 64727 files belonging to 31 classes.\n",
      "Using 51782 files for training.\n",
      "Using 12945 files for validation.\n"
     ]
    }
   ],
   "source": [
    "train_ds, val_ds = tf.keras.utils.audio_dataset_from_directory(\n",
    "    directory=\"data/train\",\n",
    "    batch_size=64,\n",
    "    validation_split=0.2,\n",
    "    seed=0,\n",
    "    output_sequence_length=16000,\n",
    "    subset='both')\n"
   ]
  },
  {
   "cell_type": "code",
   "execution_count": 178,
   "metadata": {},
   "outputs": [],
   "source": [
    "t = list(train_ds)"
   ]
  },
  {
   "cell_type": "code",
   "execution_count": 107,
   "metadata": {
    "collapsed": true
   },
   "outputs": [
    {
     "name": "stderr",
     "output_type": "stream",
     "text": [
      "Processing bed: 100%|██████████| 1713/1713 [00:13<00:00, 125.79it/s]\n"
     ]
    }
   ],
   "source": [
    "# for lstm with spectrogram?\n",
    "\n",
    "hop_length=512\n",
    "n_fft = 255\n",
    "n_mfcc=128\n",
    "y = np.array([])\n",
    "X = np.array([[]])\n",
    "main_classes = [\"yes\", \"no\", \"up\", \"down\", \"left\", \"right\", \"on\", \"off\", \"stop\", \"go\"]\n",
    "train_set_path = \"data\\\\train\"\n",
    "for class_dir in os.listdir(train_set_path):\n",
    "    class_train_path = os.path.join(train_set_path, class_dir)\n",
    "    pred_class = None\n",
    "    if class_dir in main_classes:\n",
    "        pred_class = class_dir\n",
    "    else:\n",
    "        pred_class = \"unknown\"\n",
    "    for wav_file in tqdm(os.listdir(class_train_path), f\"Processing {class_dir}\"):\n",
    "        data, samplerate = librosa.load(os.path.join(class_train_path, wav_file), sr=16000, mono=True)\n",
    "        zero_vect = np.zeros(16000 - data.shape[0])\n",
    "        data = np.concatenate((data, zero_vect))\n",
    "\n",
    "        S = librosa.feature.melspectrogram(y=data, sr=samplerate, n_mels=128,fmax=8000)\n",
    "        data = librosa.feature.mfcc(y=data, sr=samplerate, n_fft=n_fft, hop_length=hop_length, n_mfcc=n_mfcc, S=librosa.feature.mfcc(S=librosa.power_to_db(S)))\n",
    "        data = np.array((data-np.min(data))/(np.max(data)-np.min(data)))\n",
    "\n",
    "        if X.shape[1] == 0:\n",
    "            X = np.expand_dims(data, axis=0)\n",
    "        else:\n",
    "            X = np.concatenate((X, np.expand_dims(data, axis=0)), axis=0)\n",
    "        y = np.concatenate((y, np.array([pred_class])))\n",
    "    break"
   ]
  },
  {
   "cell_type": "code",
   "execution_count": 181,
   "metadata": {},
   "outputs": [
    {
     "name": "stderr",
     "output_type": "stream",
     "text": [
      "Processing bed: 100%|██████████| 1713/1713 [01:25<00:00, 20.14it/s]\n"
     ]
    }
   ],
   "source": [
    "# for transformers\n",
    "\n",
    "y = np.array([])\n",
    "X = np.array([[]])\n",
    "main_classes = [\"yes\", \"no\", \"up\", \"down\", \"left\", \"right\", \"on\", \"off\", \"stop\", \"go\"]\n",
    "train_set_path = \"data\\\\train\"\n",
    "for class_dir in os.listdir(train_set_path):\n",
    "    class_train_path = os.path.join(train_set_path, class_dir)\n",
    "    pred_class = None\n",
    "    if class_dir in main_classes:\n",
    "        pred_class = class_dir\n",
    "    else:\n",
    "        pred_class = \"unknown\"\n",
    "    for wav_file in tqdm(os.listdir(class_train_path), f\"Processing {class_dir}\"):\n",
    "        data, samplerate = librosa.load(os.path.join(class_train_path, wav_file), sr=16000, mono=True)\n",
    "        zero_vect = np.zeros(16000 - data.shape[0])\n",
    "        data = np.concatenate((data, zero_vect))\n",
    "\n",
    "        if X.shape[1] == 0:\n",
    "            X = np.expand_dims(data, axis=0)\n",
    "        else:\n",
    "            X = np.concatenate((X, np.expand_dims(data, axis=0)), axis=0)\n",
    "        y = np.concatenate((y, np.array([pred_class])))\n",
    "    break"
   ]
  },
  {
   "cell_type": "code",
   "execution_count": 163,
   "metadata": {},
   "outputs": [
    {
     "data": {
      "text/plain": [
       "(1713, 16000)"
      ]
     },
     "execution_count": 163,
     "metadata": {},
     "output_type": "execute_result"
    }
   ],
   "source": [
    "X.shape"
   ]
  },
  {
   "cell_type": "code",
   "execution_count": 55,
   "metadata": {},
   "outputs": [
    {
     "name": "stdout",
     "output_type": "stream",
     "text": [
      "Filtered audio shape: (14861,)\n"
     ]
    }
   ],
   "source": [
    "def butter_lowpass_filter(data, cutoff_freq, sample_rate, order=4):\n",
    "    nyquist = 0.5 * sample_rate\n",
    "    normal_cutoff = cutoff_freq / nyquist\n",
    "    b, a = butter(order, normal_cutoff, btype='low', analog=False)\n",
    "    filtered_data = filtfilt(b, a, data)\n",
    "    print(f\"Filtered audio shape: {filtered_data.shape}\")\n",
    "    return filtered_data\n",
    " \n",
    "filtered_audio = butter_lowpass_filter(data, cutoff_freq=4000, sample_rate=16000)"
   ]
  },
  {
   "cell_type": "code",
   "execution_count": 129,
   "metadata": {},
   "outputs": [
    {
     "data": {
      "text/plain": [
       "[<matplotlib.lines.Line2D at 0x2701427d6f0>]"
      ]
     },
     "execution_count": 129,
     "metadata": {},
     "output_type": "execute_result"
    },
    {
     "data": {
      "image/png": "[encoded data removed]",
      "text/plain": [
       "<Figure size 640x480 with 1 Axes>"
      ]
     },
     "metadata": {},
     "output_type": "display_data"
    }
   ],
   "source": [
    "# win = np.hanning(samplerate)\n",
    "filtered_audio = data\n",
    "\n",
    "plt.plot(np.linspace(1, filtered_audio.shape[0], filtered_audio.shape[0]), filtered_audio)"
   ]
  },
  {
   "cell_type": "code",
   "execution_count": 123,
   "metadata": {},
   "outputs": [],
   "source": [
    "data, samplerate = librosa.load('data/train/audio/yes/00f0204f_nohash_0.wav', sr=16000, mono=True)"
   ]
  },
  {
   "cell_type": "code",
   "execution_count": 160,
   "metadata": {},
   "outputs": [
    {
     "name": "stdout",
     "output_type": "stream",
     "text": [
      "(128, 32)\n"
     ]
    },
    {
     "data": {
      "image/png": "[encoded data removed]",
      "text/plain": [
       "<Figure size 640x480 with 2 Axes>"
      ]
     },
     "metadata": {},
     "output_type": "display_data"
    }
   ],
   "source": [
    "hop_length=512\n",
    "n_fft = 255\n",
    "n_mfcc=128\n",
    "# S = librosa.feature.melspectrogram(y=data, sr=samplerate, n_mels=256,fmax=8000)\n",
    "# X = librosa.feature.mfcc(y=data, sr=samplerate, n_fft=n_fft, hop_length=hop_length, n_mfcc=n_mfcc, S=librosa.feature.mfcc(S=librosa.power_to_db(S)))\n",
    "X = librosa.feature.mfcc(y=data, sr=samplerate, n_mfcc=n_mfcc, n_fft=n_fft)\n",
    "X = np.array((X-np.min(X))/(np.max(X)-np.min(X)))\n",
    "print(X.shape)\n",
    "librosa.display.specshow(X,sr=samplerate, cmap='cool',hop_length=hop_length)\n",
    "plt.xlabel(\"Time\")\n",
    "plt.ylabel('Frequency')\n",
    "plt.title(\"Spectrogram\")\n",
    "plt.colorbar()\n",
    "plt.show()"
   ]
  },
  {
   "cell_type": "code",
   "execution_count": 161,
   "metadata": {},
   "outputs": [
    {
     "data": {
      "text/plain": [
       "array([[0.03267467, 0.01694185, 0.01628212, ..., 0.01997297, 0.        ,\n",
       "        0.01837875],\n",
       "       [0.91387796, 0.9515284 , 0.9389912 , ..., 0.95467275, 0.93807274,\n",
       "        0.93888366],\n",
       "       [0.9057396 , 0.93679667, 0.92694956, ..., 0.91314286, 0.92506737,\n",
       "        0.922472  ],\n",
       "       ...,\n",
       "       [0.9127936 , 0.91024905, 0.9090447 , ..., 0.91058743, 0.90775126,\n",
       "        0.9124071 ],\n",
       "       [0.90263337, 0.90382135, 0.90368104, ..., 0.9054956 , 0.9004591 ,\n",
       "        0.903051  ],\n",
       "       [0.9021052 , 0.90183616, 0.9039965 , ..., 0.8998921 , 0.9061661 ,\n",
       "        0.90032023]], dtype=float32)"
      ]
     },
     "execution_count": 161,
     "metadata": {},
     "output_type": "execute_result"
    }
   ],
   "source": [
    "X"
   ]
  }
 ],
 "metadata": {
  "kernelspec": {
   "display_name": "Python 3",
   "language": "python",
   "name": "python3"
  },
  "language_info": {
   "codemirror_mode": {
    "name": "ipython",
    "version": 3
   },
   "file_extension": ".py",
   "mimetype": "text/x-python",
   "name": "python",
   "nbconvert_exporter": "python",
   "pygments_lexer": "ipython3",
   "version": "3.10.10"
  }
 },
 "nbformat": 4,
 "nbformat_minor": 4
}
