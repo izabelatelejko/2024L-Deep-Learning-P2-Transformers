{
 "cells": [
  {
   "cell_type": "code",
   "execution_count": 25,
   "metadata": {},
   "outputs": [],
   "source": [
    "import os\n",
    "import random\n",
    "from pathlib import Path\n",
    "\n",
    "import librosa\n",
    "import numpy as np\n",
    "import pandas as pd\n",
    "import torch\n",
    "import torch.nn as nn\n",
    "from python_speech_features import mfcc\n",
    "from sklearn.preprocessing import MinMaxScaler\n",
    "from tqdm import tqdm\n",
    "\n",
    "from src.const import MAIN_LABELS, SEED"
   ]
  },
  {
   "cell_type": "code",
   "execution_count": 2,
   "metadata": {},
   "outputs": [
    {
     "data": {
      "text/plain": [
       "device(type='cuda')"
      ]
     },
     "execution_count": 2,
     "metadata": {},
     "output_type": "execute_result"
    }
   ],
   "source": [
    "device = torch.device(\"cuda\" if torch.cuda.is_available() else \"cpu\")\n",
    "device"
   ]
  },
  {
   "cell_type": "markdown",
   "metadata": {},
   "source": [
    "Model for predicting silence"
   ]
  },
  {
   "cell_type": "code",
   "execution_count": null,
   "metadata": {},
   "outputs": [],
   "source": [
    "class Silence_GRU(nn.Module):\n",
    "\n",
    "    def __init__(self, input_size, hidden_size, num_layers=4, units=64, dropout_rate=0.3):\n",
    "        torch.manual_seed(SEED)\n",
    "        random.seed(SEED)\n",
    "        np.random.seed(SEED)\n",
    "\n",
    "        super().__init__()\n",
    "        self.gru = nn.GRU(\n",
    "            input_size=input_size, \n",
    "            hidden_size=hidden_size, \n",
    "            batch_first=True,\n",
    "            num_layers=num_layers,\n",
    "            dropout=dropout_rate,\n",
    "        )\n",
    "        self.dropout = nn.Dropout(dropout_rate)\n",
    "        self.fc1 = nn.Linear(hidden_size, units)\n",
    "        self.fc2 = nn.Linear(units, 1)\n",
    "        self.bc1 = nn.BatchNorm1d(hidden_size)\n",
    "        self.bc2 = nn.BatchNorm1d(units)\n",
    "        self.sigmoid = nn.Sigmoid()\n",
    "        self.relu = nn.ReLU()\n",
    "\n",
    "    def forward(self, x):\n",
    "        out = self.gru(x)[0][:, -1, :]\n",
    "        out = self.dropout(out)\n",
    "        out = self.bc1(out)\n",
    "        out = self.fc1(out)\n",
    "        out = self.dropout(out)\n",
    "        out = self.relu(out)\n",
    "        out = self.bc2(out)\n",
    "        out = self.fc2(out)\n",
    "        out = self.sigmoid(out)\n",
    "        return out"
   ]
  },
  {
   "cell_type": "markdown",
   "metadata": {},
   "source": [
    "Model for predicting unknown "
   ]
  },
  {
   "cell_type": "code",
   "execution_count": 3,
   "metadata": {},
   "outputs": [],
   "source": [
    "class Unknown_BiLSTM(nn.Module):\n",
    "\n",
    "    def __init__(self, input_size, hidden_size, num_layers=4, units=512, dropout_rate=0.3):\n",
    "        torch.manual_seed(SEED)\n",
    "        random.seed(SEED)\n",
    "        np.random.seed(SEED)\n",
    "\n",
    "        super().__init__()\n",
    "        self.lstm = nn.LSTM(\n",
    "            input_size=input_size, \n",
    "            hidden_size=hidden_size, \n",
    "            batch_first=True, \n",
    "            bidirectional=True, \n",
    "            num_layers=num_layers,\n",
    "            dropout=dropout_rate,\n",
    "        )\n",
    "        self.dropout = nn.Dropout(dropout_rate)\n",
    "        self.fc1 = nn.Linear(2*hidden_size, units)\n",
    "        self.fc2 = nn.Linear(units, 1)\n",
    "        self.bc1 = nn.BatchNorm1d(2*hidden_size)\n",
    "        self.bc2 = nn.BatchNorm1d(units)\n",
    "        self.sigmoid = nn.Sigmoid()\n",
    "        self.relu = nn.ReLU()\n",
    "\n",
    "    def forward(self, x):\n",
    "        out = self.lstm(x)[0][:, -1, :]\n",
    "        out = self.dropout(out)\n",
    "        out = self.bc1(out)\n",
    "        out = self.fc1(out)\n",
    "        out = self.dropout(out)\n",
    "        out = self.relu(out)\n",
    "        out = self.bc2(out)\n",
    "        out = self.fc2(out)\n",
    "        out = self.sigmoid(out)\n",
    "        return out"
   ]
  },
  {
   "cell_type": "markdown",
   "metadata": {},
   "source": [
    "Model for classifying main labels"
   ]
  },
  {
   "cell_type": "code",
   "execution_count": 5,
   "metadata": {},
   "outputs": [],
   "source": [
    "class Main_GRU(nn.Module):\n",
    "\n",
    "    def __init__(self, input_size, hidden_size, num_class, dropout, num_layers):\n",
    "\n",
    "        GRU_SEED=420\n",
    "        torch.manual_seed(GRU_SEED)\n",
    "        random.seed(GRU_SEED)\n",
    "        np.random.seed(GRU_SEED)\n",
    "\n",
    "        super().__init__()\n",
    "        self.gru = nn.GRU(\n",
    "            input_size=input_size, \n",
    "            hidden_size=hidden_size, \n",
    "            batch_first=True,\n",
    "            num_layers=num_layers,\n",
    "            dropout=dropout,\n",
    "        )\n",
    "        self.dropout = nn.Dropout(dropout)\n",
    "        self.fc = nn.Linear(hidden_size, num_class)\n",
    "\n",
    "    def forward(self, x):\n",
    "        out = self.gru(x)[0][:, -1, :]\n",
    "        out = self.fc(out)\n",
    "        return out"
   ]
  },
  {
   "cell_type": "markdown",
   "metadata": {},
   "source": [
    "Load models"
   ]
  },
  {
   "cell_type": "code",
   "execution_count": 6,
   "metadata": {},
   "outputs": [
    {
     "data": {
      "text/plain": [
       "<All keys matched successfully>"
      ]
     },
     "execution_count": 6,
     "metadata": {},
     "output_type": "execute_result"
    }
   ],
   "source": [
    "input_size = 20\n",
    "hidden_size = 32\n",
    "num_layers = 4\n",
    "\n",
    "unknown_bilstm_model = Unknown_BiLSTM(input_size=input_size, hidden_size=hidden_size, num_layers=num_layers).to(device)\n",
    "unknown_bilstm_model.load_state_dict(torch.load(\"models/unknown_best_model\"))"
   ]
  },
  {
   "cell_type": "code",
   "execution_count": 7,
   "metadata": {},
   "outputs": [
    {
     "data": {
      "text/plain": [
       "<All keys matched successfully>"
      ]
     },
     "execution_count": 7,
     "metadata": {},
     "output_type": "execute_result"
    }
   ],
   "source": [
    "input_size = 20\n",
    "hidden_size = 16\n",
    "num_layers = 2\n",
    "\n",
    "silence_gru_model = Silence_GRU(input_size=input_size, hidden_size=hidden_size, num_layers=num_layers).to(device)\n",
    "silence_gru_model.load_state_dict(torch.load(\"models/silence_best_model\"))"
   ]
  },
  {
   "cell_type": "code",
   "execution_count": 8,
   "metadata": {},
   "outputs": [
    {
     "data": {
      "text/plain": [
       "<All keys matched successfully>"
      ]
     },
     "execution_count": 8,
     "metadata": {},
     "output_type": "execute_result"
    }
   ],
   "source": [
    "input_size = 20\n",
    "hidden_size = 64\n",
    "dropout = 0.5\n",
    "num_layers = 4\n",
    "num_class = 10\n",
    "\n",
    "main_gru_model = Main_GRU(input_size, hidden_size, num_class, dropout, num_layers).to(device)\n",
    "main_gru_model.load_state_dict(torch.load(\"models/main_best_model\"))"
   ]
  },
  {
   "cell_type": "code",
   "execution_count": null,
   "metadata": {},
   "outputs": [],
   "source": [
    "silence_gru_model.eval()\n",
    "unknown_bilstm_model.eval()\n",
    "main_gru_model.eval()"
   ]
  },
  {
   "cell_type": "markdown",
   "metadata": {},
   "source": [
    "### Evaluation on kaggle test data"
   ]
  },
  {
   "cell_type": "code",
   "execution_count": null,
   "metadata": {},
   "outputs": [],
   "source": [
    "def final_prediction(X, silence_model, unknown_model, main_model, device):\n",
    "    \"\"\"Prediction for single observation.\"\"\"\n",
    "    X_tensor = torch.from_numpy(X)\n",
    "\n",
    "    # Silence prediction\n",
    "    y_pred_silence = (\n",
    "        (1 * (silence_model(X_tensor.float().to(device)) > 0.5)).cpu().numpy().squeeze()\n",
    "    )\n",
    "    if y_pred_silence == 1:\n",
    "        return 'silence'\n",
    "\n",
    "    # Unknown prediction\n",
    "    y_pred_unknown = (\n",
    "        (1 * (unknown_model(X_tensor.float().to(device)) > 0.5)).cpu().numpy().squeeze()\n",
    "    )\n",
    "    if y_pred_unknown == 1:\n",
    "        return 'unknown'\n",
    "\n",
    "    # Main classes prediction\n",
    "    y_pred_main = torch.argmax(main_model(X_tensor.float().to(device)), 1).cpu().numpy()\n",
    "    return MAIN_LABELS[y_pred_main[0]]"
   ]
  },
  {
   "cell_type": "code",
   "execution_count": 19,
   "metadata": {},
   "outputs": [],
   "source": [
    "def predict_on_kaggle_data(\n",
    "    test_path, \n",
    "    numcep, \n",
    "    silence_gru_model, \n",
    "    unknown_bilstm_model, \n",
    "    main_gru_model, \n",
    "    device,\n",
    "):\n",
    "    \"\"\"Generate predictions for Kaggle competition and save them in csv file.\"\"\"\n",
    "    Path('predictions.csv').unlink(missing_ok=True)\n",
    "\n",
    "    with open(Path('predictions.csv'), 'a') as f:\n",
    "        f.write(\"fname,label\\n\")\n",
    "\n",
    "        for filename in tqdm(os.listdir(test_path), \"Processing...\"):\n",
    "            # Perform the same preprocessing as in training\n",
    "            audio, samplerate = librosa.load(os.path.join(test_path, filename))\n",
    "            audio = librosa.resample(audio, orig_sr=samplerate, target_sr=16000)\n",
    "\n",
    "            mfcc_feat = mfcc(\n",
    "                librosa.util.fix_length(audio, size=16000),\n",
    "                samplerate=16000,\n",
    "                numcep=numcep,\n",
    "            )\n",
    "\n",
    "            scaler = MinMaxScaler(feature_range=(0, 1))\n",
    "            scaler = scaler.fit(mfcc_feat)\n",
    "            normalized = scaler.transform(mfcc_feat)\n",
    "\n",
    "            # Make prediction\n",
    "            pred = final_prediction(\n",
    "                np.expand_dims(normalized, axis=0), \n",
    "                silence_gru_model, \n",
    "                unknown_bilstm_model, \n",
    "                main_gru_model, \n",
    "                device\n",
    "            )\n",
    "            f.write(f\"{filename},{pred}\\n\")"
   ]
  },
  {
   "cell_type": "code",
   "execution_count": 21,
   "metadata": {},
   "outputs": [
    {
     "name": "stderr",
     "output_type": "stream",
     "text": [
      "Processing...: 100%|██████████| 158538/158538 [22:06<00:00, 119.51it/s]\n"
     ]
    }
   ],
   "source": [
    "test_path = \"data/test_kaggle/test/audio/\"\n",
    "numcep = 20\n",
    "\n",
    "predict_on_kaggle_data(test_path, numcep, silence_gru_model, unknown_bilstm_model, main_gru_model, device)"
   ]
  },
  {
   "cell_type": "markdown",
   "metadata": {},
   "source": [
    "Count the occurences of each class in our predictions"
   ]
  },
  {
   "cell_type": "code",
   "execution_count": 24,
   "metadata": {},
   "outputs": [
    {
     "data": {
      "text/plain": [
       "(array(['down', 'go', 'left', 'no', 'off', 'on', 'right', 'silence',\n",
       "        'stop', 'unknown', 'up', 'yes'], dtype=object),\n",
       " array([ 5499,  8581,  7680,  7063,  6347,  6375,  6424, 18500,  6786,\n",
       "        70331,  8634,  6318], dtype=int64))"
      ]
     },
     "execution_count": 24,
     "metadata": {},
     "output_type": "execute_result"
    }
   ],
   "source": [
    "y_pred = pd.read_csv(\"predictions.csv\")\n",
    "np.unique(y_pred[\"label\"], return_counts=True)"
   ]
  }
 ],
 "metadata": {
  "kernelspec": {
   "display_name": "Python 3",
   "language": "python",
   "name": "python3"
  },
  "language_info": {
   "codemirror_mode": {
    "name": "ipython",
    "version": 3
   },
   "file_extension": ".py",
   "mimetype": "text/x-python",
   "name": "python",
   "nbconvert_exporter": "python",
   "pygments_lexer": "ipython3",
   "version": "3.10.12"
  }
 },
 "nbformat": 4,
 "nbformat_minor": 2
}
