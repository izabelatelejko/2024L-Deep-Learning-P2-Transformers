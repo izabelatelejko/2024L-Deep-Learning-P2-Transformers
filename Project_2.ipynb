{
 "cells": [
  {
   "cell_type": "code",
   "execution_count": 1,
   "metadata": {},
   "outputs": [],
   "source": [
    "from tqdm import tqdm\n",
    "import numpy as np\n",
    "import torch\n",
    "import torch.nn as nn\n",
    "import torch.optim as optim\n",
    "\n",
    "\n",
    "from src.const import AUDIO_PATH, MAIN_LABELS, BATCH_SIZE, VALIDATION_SPLIT, SEED\n",
    "from src.preprocess import load_and_preprocess, transform_to_data_loader"
   ]
  },
  {
   "cell_type": "markdown",
   "metadata": {},
   "source": [
    "### Unknown vs known task"
   ]
  },
  {
   "cell_type": "code",
   "execution_count": 2,
   "metadata": {},
   "outputs": [
    {
     "name": "stdout",
     "output_type": "stream",
     "text": [
      "Loading augmented data...\n",
      "Found 64727 files belonging to 31 classes.\n",
      "Using 51782 files for training.\n",
      "Using 12945 files for validation.\n",
      "Finished\n",
      "Creating data with only main classes...\n",
      "Finished\n",
      "Creating binary dataset...\n",
      "Finished\n",
      "Creating main dataset...\n",
      "Found 64727 files belonging to 31 classes.\n",
      "Using 51782 files for training.\n",
      "Using 12945 files for validation.\n",
      "Finished\n",
      "Transforming audio data to spectograms...\n",
      "Finished\n",
      "Augmenting spectograms...\n",
      "Finished\n",
      "Transforming data to numpy arrays...\n"
     ]
    },
    {
     "name": "stderr",
     "output_type": "stream",
     "text": [
      "Processing dataset: 100%|██████████| 70776/70776 [06:12<00:00, 190.14it/s] \n",
      "Processing dataset: 100%|██████████| 12945/12945 [00:41<00:00, 308.30it/s]\n",
      "Processing dataset: 100%|██████████| 37988/37988 [01:42<00:00, 369.83it/s]\n",
      "Processing dataset: 100%|██████████| 12945/12945 [00:34<00:00, 372.28it/s]\n"
     ]
    },
    {
     "name": "stdout",
     "output_type": "stream",
     "text": [
      "Finished\n"
     ]
    }
   ],
   "source": [
    "train_ds_bin_X, train_ds_bin_y, val_ds_bin_X, val_ds_bin_y, train_ds_main_X, train_ds_main_y, val_ds_main_X, val_ds_main_y = load_and_preprocess(plot_samples = True)"
   ]
  },
  {
   "cell_type": "code",
   "execution_count": 38,
   "metadata": {},
   "outputs": [],
   "source": [
    "train_ds_bin_X[train_ds_bin_X == -np.inf] = np.min(train_ds_bin_X[train_ds_bin_X != -np.inf])\n",
    "val_ds_bin_X[val_ds_bin_X == -np.inf] = np.min(train_ds_bin_X[train_ds_bin_X != -np.inf])\n",
    "train_ds_main_X[train_ds_main_X == -np.inf] = np.min(train_ds_main_X[train_ds_main_X != -np.inf])\n",
    "val_ds_main_X[val_ds_main_X == -np.inf] = np.min(train_ds_main_X[train_ds_main_X != -np.inf])"
   ]
  },
  {
   "cell_type": "code",
   "execution_count": 11,
   "metadata": {},
   "outputs": [],
   "source": [
    "# np.save('data/arrays/train_ds_bin_X.npy', train_ds_bin_X)\n",
    "# np.save('data/arrays/train_ds_bin_y.npy', train_ds_bin_y)\n",
    "# np.save('data/arrays/val_ds_bin_X.npy', val_ds_bin_X)\n",
    "# np.save('data/arrays/val_ds_bin_y.npy', val_ds_bin_y)\n",
    "# np.save('data/arrays/train_ds_main_X.npy', train_ds_main_X)\n",
    "# np.save('data/arrays/train_ds_main_y.npy', train_ds_main_y)\n",
    "# np.save('data/arrays/val_ds_main_X.npy', val_ds_main_X)\n",
    "# np.save('data/arrays/val_ds_main_y.npy', val_ds_main_y)"
   ]
  },
  {
   "cell_type": "code",
   "execution_count": 2,
   "metadata": {},
   "outputs": [],
   "source": [
    "# train_ds_bin_X = np.load('data/arrays/train_ds_bin_X.npy')\n",
    "# train_ds_bin_y = np.load('data/arrays/train_ds_bin_y.npy')\n",
    "# val_ds_bin_X = np.load('data/arrays/val_ds_bin_X.npy')\n",
    "# val_ds_bin_y = np.load('data/arrays/val_ds_bin_y.npy')\n",
    "# train_ds_main_X = np.load('data/arrays/train_ds_main_X.npy')\n",
    "# train_ds_main_y = np.load('data/arrays/train_ds_main_y.npy')\n",
    "# val_ds_main_X = np.load('data/arrays/val_ds_main_X.npy')\n",
    "# val_ds_main_y = np.load('data/arrays/val_ds_main_y.npy')"
   ]
  },
  {
   "cell_type": "code",
   "execution_count": 4,
   "metadata": {},
   "outputs": [
    {
     "data": {
      "text/plain": [
       "device(type='cuda')"
      ]
     },
     "execution_count": 4,
     "metadata": {},
     "output_type": "execute_result"
    }
   ],
   "source": [
    "device = torch.device(\"cuda\" if torch.cuda.is_available() else \"cpu\")\n",
    "device"
   ]
  },
  {
   "cell_type": "code",
   "execution_count": 5,
   "metadata": {},
   "outputs": [],
   "source": [
    "train_loader_bin = transform_to_data_loader(train_ds_bin_X, train_ds_bin_y, device=device)\n",
    "val_loader_bin = transform_to_data_loader(val_ds_bin_X, val_ds_bin_y, device=device)"
   ]
  },
  {
   "cell_type": "code",
   "execution_count": 16,
   "metadata": {},
   "outputs": [],
   "source": [
    "class bin_BiLSTM(nn.Module):\n",
    "    def __init__(self, input_size, hidden_size):\n",
    "        super().__init__()\n",
    "        self.lstm = nn.LSTM(\n",
    "            input_size=input_size, \n",
    "            hidden_size=hidden_size, \n",
    "            batch_first=True, \n",
    "            bidirectional=True, \n",
    "            num_layers=2\n",
    "        )\n",
    "        self.dropout = nn.Dropout(0.2)\n",
    "        self.fc1 = nn.Linear(2*hidden_size, 64)  # *2 because of bidirectional\n",
    "        self.fc2 = nn.Linear(64, 1)\n",
    "        self.sigmoid = nn.Sigmoid()\n",
    "        self.relu = nn.ReLU()\n",
    "        self.conv = nn.Conv2d(in_channels=1, out_channels=1, kernel_size=3, padding=1)\n",
    "\n",
    "    def forward(self, x):\n",
    "        out = self.conv(x.unsqueeze(1)).squeeze(1)\n",
    "        out, _ = self.lstm(out)\n",
    "        out = torch.sum(out, dim=1)\n",
    "        out = self.dropout(out)\n",
    "        out = self.fc1(out)\n",
    "        out = self.dropout(out)\n",
    "        out = self.relu(out)\n",
    "        out = self.fc2(out)\n",
    "        out = self.sigmoid(out)\n",
    "        return out"
   ]
  },
  {
   "cell_type": "code",
   "execution_count": 12,
   "metadata": {},
   "outputs": [],
   "source": [
    "class main_BiLSTM(nn.Module):\n",
    "    def __init__(self, input_size, hidden_size, num_class):\n",
    "        super().__init__()\n",
    "        self.lstm = nn.LSTM(\n",
    "            input_size=input_size, \n",
    "            hidden_size=hidden_size, \n",
    "            batch_first=True, \n",
    "            bidirectional=True, \n",
    "            num_layers=2\n",
    "        )\n",
    "        self.dropout = nn.Dropout(0.2)\n",
    "        self.fc1 = nn.Linear(2*hidden_size, 64)  # *2 because of bidirectional\n",
    "        self.fc2 = nn.Linear(64, num_class)\n",
    "        self.softmax = nn.Softmax()\n",
    "        self.relu = nn.ReLU()\n",
    "        self.conv = nn.Conv2d(in_channels=1, out_channels=1, kernel_size=3, padding=1)\n",
    "\n",
    "    def forward(self, x):\n",
    "        out = self.conv(x.unsqueeze(1)).squeeze(1)\n",
    "        out, _ = self.lstm(out)\n",
    "        out = torch.sum(out, dim=1)\n",
    "        out = self.dropout(out)\n",
    "        out = self.fc1(out)\n",
    "        out = self.dropout(out)\n",
    "        out = self.relu(out)\n",
    "        out = self.fc2(out)\n",
    "        out = self.softmax(out)\n",
    "        return out"
   ]
  },
  {
   "cell_type": "code",
   "execution_count": 32,
   "metadata": {},
   "outputs": [],
   "source": [
    "class bin_Transformer(nn.Module):\n",
    "    def __init__(self, d_model, n_head, num_layers):\n",
    "        super().__init__()\n",
    "        self.trans_enc_layer = nn.TransformerEncoderLayer(d_model=d_model, nhead=n_head, batch_first=True, activation=\"relu\").to(device)\n",
    "        self.transformer_encoder = nn.TransformerEncoder(self.trans_enc_layer, num_layers=num_layers).to(device)\n",
    "        self.dropout = nn.Dropout(0.2)\n",
    "        self.fc1 = nn.Linear(d_model, 64)\n",
    "        self.fc2 = nn.Linear(64, 1)\n",
    "        self.sigmoid = nn.Sigmoid()\n",
    "        self.relu = nn.ReLU()\n",
    "        self.conv = nn.Conv2d(in_channels=1, out_channels=1, kernel_size=3, padding=1)\n",
    "\n",
    "    def forward(self, x):\n",
    "        out = self.conv(x.unsqueeze(1)).squeeze(1)\n",
    "        out = self.transformer_encoder(out)\n",
    "        out = torch.sum(out, dim=1)\n",
    "        out = self.dropout(out)\n",
    "        out = self.fc1(out)\n",
    "        out = self.dropout(out)\n",
    "        out = self.relu(out)\n",
    "        out = self.fc2(out)\n",
    "        out = self.sigmoid(out)\n",
    "        return out"
   ]
  },
  {
   "cell_type": "code",
   "execution_count": 33,
   "metadata": {},
   "outputs": [],
   "source": [
    "class main_Transformer(nn.Module):\n",
    "    def __init__(self, d_model, n_head, num_layers, num_class):\n",
    "        super().__init__()\n",
    "        self.trans_enc_layer = nn.TransformerEncoderLayer(d_model=d_model, nhead=n_head, batch_first=True, activation=\"relu\").to(device)\n",
    "        self.transformer_encoder = nn.TransformerEncoder(self.trans_enc_layer, num_layers=num_layers).to(device)\n",
    "        self.dropout = nn.Dropout(0.2)\n",
    "        self.fc1 = nn.Linear(d_model, 64)\n",
    "        self.fc2 = nn.Linear(64, num_class)\n",
    "        self.softmax = nn.Softmax()\n",
    "        self.relu = nn.ReLU()\n",
    "        self.conv = nn.Conv2d(in_channels=1, out_channels=1, kernel_size=3, padding=1)\n",
    "\n",
    "    def forward(self, x):\n",
    "        out = self.conv(x.unsqueeze(1)).squeeze(1)\n",
    "        out = self.transformer_encoder(out)\n",
    "        out = torch.sum(out, dim=1)\n",
    "        out = self.dropout(out)\n",
    "        out = self.fc1(out)\n",
    "        out = self.dropout(out)\n",
    "        out = self.relu(out)\n",
    "        out = self.fc2(out)\n",
    "        out = self.softmax(out)\n",
    "        return out"
   ]
  },
  {
   "cell_type": "code",
   "execution_count": 34,
   "metadata": {},
   "outputs": [],
   "source": [
    "# BILSTM for known vs. unknown classification task\n",
    "input_size = 128\n",
    "hidden_size = 128\n",
    "\n",
    "model = bin_BiLSTM(input_size, hidden_size).to(device)\n",
    "criterion = nn.BCELoss()\n",
    "optimizer = optim.Adam(model.parameters())"
   ]
  },
  {
   "cell_type": "code",
   "execution_count": 35,
   "metadata": {},
   "outputs": [],
   "source": [
    "# BILSTM for main classification task\n",
    "input_size = 128\n",
    "hidden_size = 128\n",
    "num_class = 10\n",
    "\n",
    "model = main_BiLSTM(input_size, hidden_size, num_class).to(device)\n",
    "criterion = nn.CrossEntropyLoss()\n",
    "optimizer = optim.Adam(model.parameters())"
   ]
  },
  {
   "cell_type": "code",
   "execution_count": 36,
   "metadata": {},
   "outputs": [],
   "source": [
    "# Transformer for known vs. unknown task\n",
    "d_model = 128\n",
    "n_head = 8\n",
    "num_layers = 1\n",
    "\n",
    "model = bin_Transformer(d_model, n_head, num_layers).to(device)\n",
    "criterion = nn.BCELoss()\n",
    "optimizer = optim.Adam(model.parameters())"
   ]
  },
  {
   "cell_type": "code",
   "execution_count": 37,
   "metadata": {},
   "outputs": [],
   "source": [
    "# Transformer for main task\n",
    "d_model = 128\n",
    "n_head = 8\n",
    "num_class = 10\n",
    "num_layers = 1\n",
    "\n",
    "model = main_Transformer(d_model, n_head, num_layers, num_class).to(device)\n",
    "criterion = nn.BCELoss()\n",
    "optimizer = optim.Adam(model.parameters())"
   ]
  },
  {
   "cell_type": "code",
   "execution_count": 10,
   "metadata": {},
   "outputs": [
    {
     "name": "stderr",
     "output_type": "stream",
     "text": [
      "Epoch 1:   0%|          | 0/277 [00:00<?, ?it/s]"
     ]
    },
    {
     "name": "stderr",
     "output_type": "stream",
     "text": [
      "Epoch 1: 100%|██████████| 277/277 [00:28<00:00,  9.77it/s]\n"
     ]
    },
    {
     "name": "stdout",
     "output_type": "stream",
     "text": [
      "Epoch 1/50, Train Loss: 0.6790, Train Acc: 0.54, Val Loss: 0.6901, Val Acc: 0.61\n"
     ]
    },
    {
     "name": "stderr",
     "output_type": "stream",
     "text": [
      "Epoch 2: 100%|██████████| 277/277 [00:21<00:00, 12.97it/s]\n"
     ]
    },
    {
     "name": "stdout",
     "output_type": "stream",
     "text": [
      "Epoch 2/50, Train Loss: 0.6550, Train Acc: 0.56, Val Loss: 0.6817, Val Acc: 0.60\n"
     ]
    },
    {
     "name": "stderr",
     "output_type": "stream",
     "text": [
      "Epoch 3: 100%|██████████| 277/277 [00:21<00:00, 12.73it/s]\n"
     ]
    },
    {
     "name": "stdout",
     "output_type": "stream",
     "text": [
      "Epoch 3/50, Train Loss: 0.6331, Train Acc: 0.60, Val Loss: 0.7143, Val Acc: 0.54\n"
     ]
    },
    {
     "name": "stderr",
     "output_type": "stream",
     "text": [
      "Epoch 4:  78%|███████▊  | 215/277 [00:17<00:04, 12.56it/s]\n"
     ]
    },
    {
     "ename": "KeyboardInterrupt",
     "evalue": "",
     "output_type": "error",
     "traceback": [
      "\u001b[1;31m---------------------------------------------------------------------------\u001b[0m",
      "\u001b[1;31mKeyboardInterrupt\u001b[0m                         Traceback (most recent call last)",
      "Cell \u001b[1;32mIn[10], line 20\u001b[0m\n\u001b[0;32m     17\u001b[0m optimizer\u001b[38;5;241m.\u001b[39mstep()\n\u001b[0;32m     19\u001b[0m \u001b[38;5;66;03m# Loss\u001b[39;00m\n\u001b[1;32m---> 20\u001b[0m train_loss \u001b[38;5;241m+\u001b[39m\u001b[38;5;241m=\u001b[39m \u001b[43mloss\u001b[49m\u001b[38;5;241;43m.\u001b[39;49m\u001b[43mitem\u001b[49m\u001b[43m(\u001b[49m\u001b[43m)\u001b[49m \u001b[38;5;241m*\u001b[39m batch_X\u001b[38;5;241m.\u001b[39msize(\u001b[38;5;241m0\u001b[39m)\n\u001b[0;32m     22\u001b[0m \u001b[38;5;66;03m# Accuracy\u001b[39;00m\n\u001b[0;32m     23\u001b[0m predicted \u001b[38;5;241m=\u001b[39m (outputs \u001b[38;5;241m>\u001b[39m \u001b[38;5;241m0.5\u001b[39m)\u001b[38;5;241m.\u001b[39mfloat()\n",
      "\u001b[1;31mKeyboardInterrupt\u001b[0m: "
     ]
    }
   ],
   "source": [
    "best_val_loss = float('inf')\n",
    "patience = 5\n",
    "no_improve_count = 0\n",
    "\n",
    "# Training\n",
    "for epoch in range(50):\n",
    "    model.train()\n",
    "    train_loss = 0\n",
    "    correct_train = 0\n",
    "    total_train = 0\n",
    "\n",
    "    for batch_X, batch_y in tqdm(train_loader_bin, f\"Epoch {epoch+1}\"):\n",
    "        model.zero_grad()\n",
    "        outputs = model(batch_X)\n",
    "        loss = criterion(outputs, batch_y.unsqueeze(1))\n",
    "        loss.backward()\n",
    "        optimizer.step()\n",
    "\n",
    "        # Loss\n",
    "        train_loss += loss.item() * batch_X.size(0)\n",
    "\n",
    "        # Accuracy\n",
    "        # predicted = (outputs > 0.5).float()\n",
    "        # correct_train += (predicted == batch_y.unsqueeze(1)).sum().item()\n",
    "        # total_train += batch_y.size(0)\n",
    "\n",
    "    train_loss /= len(train_loader_bin.dataset)\n",
    "    train_acc = correct_train / total_train\n",
    "    \n",
    "    model.eval()\n",
    "    val_loss = 0\n",
    "    correct_val = 0\n",
    "    total_val = 0\n",
    "\n",
    "    with torch.no_grad():\n",
    "        for batch_X, batch_y in val_loader_bin:\n",
    "            outputs = model(batch_X)\n",
    "            loss = criterion(outputs, batch_y.unsqueeze(1))\n",
    "            \n",
    "            # Loss\n",
    "            val_loss += loss.item() * batch_X.size(0)\n",
    "\n",
    "            # Accuracy\n",
    "            # predicted = (outputs > 0.5).float()\n",
    "            # correct_val += (predicted == batch_y.unsqueeze(1)).sum().item()\n",
    "            # total_val += batch_y.size(0)\n",
    "\n",
    "        val_loss /= len(val_loader_bin.dataset)\n",
    "        val_acc = correct_val / total_val\n",
    "        \n",
    "    print(f'Epoch {epoch+1}/{50}, Train Loss: {train_loss:.4f}, Train Acc: {train_acc:.2f}, Val Loss: {val_loss:.4f}, Val Acc: {val_acc:.2f}')\n",
    "    \n",
    "    # Early stopping check\n",
    "    if val_loss < best_val_loss:\n",
    "        best_val_loss = val_loss\n",
    "        no_improve_count = 0\n",
    "    else:\n",
    "        no_improve_count += 1\n",
    "    \n",
    "    if no_improve_count >= patience:\n",
    "        print('Early stopping')\n",
    "        break"
   ]
  }
 ],
 "metadata": {
  "kernelspec": {
   "display_name": "Python 3",
   "language": "python",
   "name": "python3"
  },
  "language_info": {
   "codemirror_mode": {
    "name": "ipython",
    "version": 3
   },
   "file_extension": ".py",
   "mimetype": "text/x-python",
   "name": "python",
   "nbconvert_exporter": "python",
   "pygments_lexer": "ipython3",
   "version": "3.10.14"
  }
 },
 "nbformat": 4,
 "nbformat_minor": 4
}
