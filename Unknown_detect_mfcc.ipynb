{
      "cells": [
            {
                  "cell_type": "code",
                  "execution_count": 1,
                  "metadata": {},
                  "outputs": [],
                  "source": [
                        "import numpy as np\n",
                        "import random\n",
                        "import torch\n",
                        "import torch.nn as nn\n",
                        "import torch.optim as optim\n",
                        "from torchinfo import summary\n",
                        "\n",
                        "from src.const import SEED\n",
                        "from src.evaluation import eval_acc_in_binary_task\n",
                        "from src.preprocess import transform_to_data_loader\n",
                        "from src.preprocess_utils import create_binary_labels\n",
                        "from src.train import train_model\n",
                        "from src.visualization import plot_conf_matrix, plot_losses"
                  ]
            },
            {
                  "cell_type": "code",
                  "execution_count": 2,
                  "metadata": {},
                  "outputs": [],
                  "source": [
                        "CLASSES = ['known', 'unknown']"
                  ]
            },
            {
                  "cell_type": "code",
                  "execution_count": 3,
                  "metadata": {},
                  "outputs": [
                        {
                              "data": {
                                    "text/plain": [
                                          "device(type='cuda')"
                                    ]
                              },
                              "execution_count": 3,
                              "metadata": {},
                              "output_type": "execute_result"
                        }
                  ],
                  "source": [
                        "device = torch.device(\"cuda\" if torch.cuda.is_available() else \"cpu\")\n",
                        "device"
                  ]
            },
            {
                  "cell_type": "markdown",
                  "metadata": {},
                  "source": [
                        "Load data"
                  ]
            },
            {
                  "cell_type": "code",
                  "execution_count": 4,
                  "metadata": {},
                  "outputs": [],
                  "source": [
                        "X_train = np.load('data/arrays/X_train.npy')\n",
                        "y_train = np.load('data/arrays/y_train.npy')\n",
                        "X_val = np.load('data/arrays/X_val.npy')\n",
                        "y_val = np.load('data/arrays/y_val.npy')\n",
                        "X_test = np.load('data/arrays/X_test.npy')\n",
                        "y_test = np.load('data/arrays/y_test.npy')"
                  ]
            },
            {
                  "cell_type": "markdown",
                  "metadata": {},
                  "source": [
                        "Transform labels for binary task"
                  ]
            },
            {
                  "cell_type": "code",
                  "execution_count": 5,
                  "metadata": {},
                  "outputs": [],
                  "source": [
                        "y_train = create_binary_labels(y_train)\n",
                        "y_val = create_binary_labels(y_val)\n",
                        "y_test = create_binary_labels(y_test)"
                  ]
            },
            {
                  "cell_type": "markdown",
                  "metadata": {},
                  "source": [
                        "Generate data loaders for train and validation"
                  ]
            },
            {
                  "cell_type": "code",
                  "execution_count": 6,
                  "metadata": {},
                  "outputs": [],
                  "source": [
                        "train_dl = transform_to_data_loader(X_train, y_train, device=device)\n",
                        "val_dl = transform_to_data_loader(X_val, y_val, device=device)"
                  ]
            },
            {
                  "cell_type": "code",
                  "execution_count": 7,
                  "metadata": {},
                  "outputs": [
                        {
                              "name": "stdout",
                              "output_type": "stream",
                              "text": [
                                    "Input size: torch.Size([128, 99, 20])\n",
                                    "Labels size: torch.Size([128])\n"
                              ]
                        }
                  ],
                  "source": [
                        "for x, y in train_dl:\n",
                        "    print(f'Input size: {x.shape}')\n",
                        "    print(f'Labels size: {y.shape}')\n",
                        "    break"
                  ]
            },
            {
                  "cell_type": "markdown",
                  "metadata": {},
                  "source": [
                        "## Models"
                  ]
            },
            {
                  "cell_type": "markdown",
                  "metadata": {},
                  "source": [
                        "### Transformer"
                  ]
            },
            {
                  "cell_type": "code",
                  "execution_count": 8,
                  "metadata": {},
                  "outputs": [],
                  "source": [
                        "class Transformer(nn.Module):\n",
                        "    \n",
                        "    def __init__(self, d_model, n_head, num_layers, dropout_rate=0.3, units=512):\n",
                        "        \n",
                        "        torch.manual_seed(SEED)\n",
                        "        random.seed(SEED)\n",
                        "        np.random.seed(SEED)\n",
                        "\n",
                        "        super().__init__()\n",
                        "        self.trans_enc_layer = nn.TransformerEncoderLayer(d_model=d_model, nhead=n_head, batch_first=True, activation=\"relu\").to(device)\n",
                        "        self.transformer_encoder = nn.TransformerEncoder(self.trans_enc_layer, num_layers=num_layers).to(device)\n",
                        "        self.dropout = nn.Dropout(dropout_rate)\n",
                        "        self.fc1 = nn.Linear(d_model, units)\n",
                        "        self.fc2 = nn.Linear(units, 1)\n",
                        "        self.bc1 = nn.BatchNorm1d(d_model)\n",
                        "        self.bc2 = nn.BatchNorm1d(units)\n",
                        "        self.sigmoid = nn.Sigmoid()\n",
                        "        self.relu = nn.ReLU()\n",
                        "\n",
                        "    def forward(self, x):\n",
                        "        out = self.transformer_encoder(x)[:, -1, :]\n",
                        "        out = self.dropout(out)\n",
                        "        out = self.bc1(out)\n",
                        "        out = self.fc1(out)\n",
                        "        out = self.dropout(out)\n",
                        "        out = self.relu(out)\n",
                        "        out = self.bc2(out)\n",
                        "        out = self.fc2(out)\n",
                        "        out = self.sigmoid(out)\n",
                        "        return out"
                  ]
            },
            {
                  "cell_type": "code",
                  "execution_count": 9,
                  "metadata": {},
                  "outputs": [],
                  "source": [
                        "d_model = 20\n",
                        "n_head = 4\n",
                        "num_layers = 3\n",
                        "dropout_rate = 0.3\n",
                        "units = 64\n",
                        "\n",
                        "transformer_model = Transformer(d_model, n_head, num_layers, dropout_rate, units).to(device)\n",
                        "criterion = nn.BCELoss()\n",
                        "optimizer = optim.Adam(transformer_model.parameters(), weight_decay=1e-5)"
                  ]
            },
            {
                  "cell_type": "code",
                  "execution_count": 10,
                  "metadata": {},
                  "outputs": [
                        {
                              "data": {
                                    "text/plain": [
                                          "===============================================================================================\n",
                                          "Layer (type:depth-idx)                        Output Shape              Param #\n",
                                          "===============================================================================================\n",
                                          "Transformer                                   [128, 1]                  85,748\n",
                                          "├─TransformerEncoder: 1-1                     [128, 99, 20]             --\n",
                                          "│    └─ModuleList: 2-1                        --                        --\n",
                                          "│    │    └─TransformerEncoderLayer: 3-1      [128, 99, 20]             85,748\n",
                                          "│    │    └─TransformerEncoderLayer: 3-2      [128, 99, 20]             85,748\n",
                                          "│    │    └─TransformerEncoderLayer: 3-3      [128, 99, 20]             85,748\n",
                                          "├─Dropout: 1-2                                [128, 20]                 --\n",
                                          "├─BatchNorm1d: 1-3                            [128, 20]                 40\n",
                                          "├─Linear: 1-4                                 [128, 64]                 1,344\n",
                                          "├─Dropout: 1-5                                [128, 64]                 --\n",
                                          "├─ReLU: 1-6                                   [128, 64]                 --\n",
                                          "├─BatchNorm1d: 1-7                            [128, 64]                 128\n",
                                          "├─Linear: 1-8                                 [128, 1]                  65\n",
                                          "├─Sigmoid: 1-9                                [128, 1]                  --\n",
                                          "===============================================================================================\n",
                                          "Total params: 344,569\n",
                                          "Trainable params: 344,569\n",
                                          "Non-trainable params: 0\n",
                                          "Total mult-adds (M): 0.20\n",
                                          "===============================================================================================\n",
                                          "Input size (MB): 1.01\n",
                                          "Forward/backward pass size (MB): 0.15\n",
                                          "Params size (MB): 0.01\n",
                                          "Estimated Total Size (MB): 1.17\n",
                                          "==============================================================================================="
                                    ]
                              },
                              "execution_count": 10,
                              "metadata": {},
                              "output_type": "execute_result"
                        }
                  ],
                  "source": [
                        "summary(transformer_model, input_size=(128, 99, 20))"
                  ]
            },
            {
                  "cell_type": "code",
                  "execution_count": 11,
                  "metadata": {},
                  "outputs": [
                        {
                              "name": "stderr",
                              "output_type": "stream",
                              "text": [
                                    "Epoch 1:   0%|          | 0/400 [00:00<?, ?it/s]c:\\Users\\lukgr\\anaconda3\\envs\\venv\\lib\\site-packages\\torch\\nn\\functional.py:5476: UserWarning: 1Torch was not compiled with flash attention. (Triggered internally at C:\\cb\\pytorch_1000000000000\\work\\aten\\src\\ATen\\native\\transformers\\cuda\\sdp_utils.cpp:263.)\n",
                                    "  attn_output = scaled_dot_product_attention(q, k, v, attn_mask, dropout_p, is_causal)\n",
                                    "Epoch 1: 100%|██████████| 400/400 [00:32<00:00, 12.42it/s]\n"
                              ]
                        },
                        {
                              "name": "stdout",
                              "output_type": "stream",
                              "text": [
                                    "Epoch 1/50, Train Loss: 0.5569, Train Acc: 0.70, Val Loss: 0.4464, Val Acc: 0.79\n"
                              ]
                        },
                        {
                              "name": "stderr",
                              "output_type": "stream",
                              "text": [
                                    "Epoch 2: 100%|██████████| 400/400 [00:31<00:00, 12.52it/s]\n"
                              ]
                        },
                        {
                              "name": "stdout",
                              "output_type": "stream",
                              "text": [
                                    "Epoch 2/50, Train Loss: 0.4168, Train Acc: 0.81, Val Loss: 0.4048, Val Acc: 0.81\n"
                              ]
                        },
                        {
                              "name": "stderr",
                              "output_type": "stream",
                              "text": [
                                    "Epoch 3: 100%|██████████| 400/400 [00:32<00:00, 12.47it/s]\n"
                              ]
                        },
                        {
                              "name": "stdout",
                              "output_type": "stream",
                              "text": [
                                    "Epoch 3/50, Train Loss: 0.3731, Train Acc: 0.84, Val Loss: 0.3538, Val Acc: 0.84\n"
                              ]
                        },
                        {
                              "name": "stderr",
                              "output_type": "stream",
                              "text": [
                                    "Epoch 4: 100%|██████████| 400/400 [00:32<00:00, 12.46it/s]\n"
                              ]
                        },
                        {
                              "name": "stdout",
                              "output_type": "stream",
                              "text": [
                                    "Epoch 4/50, Train Loss: 0.3395, Train Acc: 0.85, Val Loss: 0.3253, Val Acc: 0.86\n"
                              ]
                        },
                        {
                              "name": "stderr",
                              "output_type": "stream",
                              "text": [
                                    "Epoch 5: 100%|██████████| 400/400 [00:32<00:00, 12.33it/s]\n"
                              ]
                        },
                        {
                              "name": "stdout",
                              "output_type": "stream",
                              "text": [
                                    "Epoch 5/50, Train Loss: 0.3208, Train Acc: 0.86, Val Loss: 0.3109, Val Acc: 0.87\n"
                              ]
                        },
                        {
                              "name": "stderr",
                              "output_type": "stream",
                              "text": [
                                    "Epoch 6: 100%|██████████| 400/400 [00:32<00:00, 12.32it/s]\n"
                              ]
                        },
                        {
                              "name": "stdout",
                              "output_type": "stream",
                              "text": [
                                    "Epoch 6/50, Train Loss: 0.2977, Train Acc: 0.87, Val Loss: 0.2986, Val Acc: 0.88\n"
                              ]
                        },
                        {
                              "name": "stderr",
                              "output_type": "stream",
                              "text": [
                                    "Epoch 7: 100%|██████████| 400/400 [00:32<00:00, 12.28it/s]\n"
                              ]
                        },
                        {
                              "name": "stdout",
                              "output_type": "stream",
                              "text": [
                                    "Epoch 7/50, Train Loss: 0.2780, Train Acc: 0.88, Val Loss: 0.2997, Val Acc: 0.86\n"
                              ]
                        },
                        {
                              "name": "stderr",
                              "output_type": "stream",
                              "text": [
                                    "Epoch 8: 100%|██████████| 400/400 [00:32<00:00, 12.18it/s]\n"
                              ]
                        },
                        {
                              "name": "stdout",
                              "output_type": "stream",
                              "text": [
                                    "Epoch 8/50, Train Loss: 0.2635, Train Acc: 0.89, Val Loss: 0.2663, Val Acc: 0.89\n"
                              ]
                        },
                        {
                              "name": "stderr",
                              "output_type": "stream",
                              "text": [
                                    "Epoch 9: 100%|██████████| 400/400 [00:32<00:00, 12.27it/s]\n"
                              ]
                        },
                        {
                              "name": "stdout",
                              "output_type": "stream",
                              "text": [
                                    "Epoch 9/50, Train Loss: 0.2461, Train Acc: 0.90, Val Loss: 0.2576, Val Acc: 0.89\n"
                              ]
                        },
                        {
                              "name": "stderr",
                              "output_type": "stream",
                              "text": [
                                    "Epoch 10: 100%|██████████| 400/400 [00:34<00:00, 11.73it/s]\n"
                              ]
                        },
                        {
                              "name": "stdout",
                              "output_type": "stream",
                              "text": [
                                    "Epoch 10/50, Train Loss: 0.2375, Train Acc: 0.90, Val Loss: 0.2594, Val Acc: 0.89\n"
                              ]
                        },
                        {
                              "name": "stderr",
                              "output_type": "stream",
                              "text": [
                                    "Epoch 11: 100%|██████████| 400/400 [00:33<00:00, 11.97it/s]\n"
                              ]
                        },
                        {
                              "name": "stdout",
                              "output_type": "stream",
                              "text": [
                                    "Epoch 11/50, Train Loss: 0.2233, Train Acc: 0.91, Val Loss: 0.2476, Val Acc: 0.90\n"
                              ]
                        },
                        {
                              "name": "stderr",
                              "output_type": "stream",
                              "text": [
                                    "Epoch 12: 100%|██████████| 400/400 [00:32<00:00, 12.21it/s]\n"
                              ]
                        },
                        {
                              "name": "stdout",
                              "output_type": "stream",
                              "text": [
                                    "Epoch 12/50, Train Loss: 0.2163, Train Acc: 0.91, Val Loss: 0.2531, Val Acc: 0.90\n"
                              ]
                        },
                        {
                              "name": "stderr",
                              "output_type": "stream",
                              "text": [
                                    "Epoch 13: 100%|██████████| 400/400 [00:32<00:00, 12.30it/s]\n"
                              ]
                        },
                        {
                              "name": "stdout",
                              "output_type": "stream",
                              "text": [
                                    "Epoch 13/50, Train Loss: 0.2038, Train Acc: 0.92, Val Loss: 0.2341, Val Acc: 0.90\n"
                              ]
                        },
                        {
                              "name": "stderr",
                              "output_type": "stream",
                              "text": [
                                    "Epoch 14: 100%|██████████| 400/400 [00:33<00:00, 12.07it/s]\n"
                              ]
                        },
                        {
                              "name": "stdout",
                              "output_type": "stream",
                              "text": [
                                    "Epoch 14/50, Train Loss: 0.1985, Train Acc: 0.92, Val Loss: 0.2288, Val Acc: 0.91\n"
                              ]
                        },
                        {
                              "name": "stderr",
                              "output_type": "stream",
                              "text": [
                                    "Epoch 15: 100%|██████████| 400/400 [00:32<00:00, 12.17it/s]\n"
                              ]
                        },
                        {
                              "name": "stdout",
                              "output_type": "stream",
                              "text": [
                                    "Epoch 15/50, Train Loss: 0.1911, Train Acc: 0.92, Val Loss: 0.2610, Val Acc: 0.90\n"
                              ]
                        },
                        {
                              "name": "stderr",
                              "output_type": "stream",
                              "text": [
                                    "Epoch 16: 100%|██████████| 400/400 [00:34<00:00, 11.54it/s]\n"
                              ]
                        },
                        {
                              "name": "stdout",
                              "output_type": "stream",
                              "text": [
                                    "Epoch 16/50, Train Loss: 0.1842, Train Acc: 0.92, Val Loss: 0.2481, Val Acc: 0.90\n"
                              ]
                        },
                        {
                              "name": "stderr",
                              "output_type": "stream",
                              "text": [
                                    "Epoch 17: 100%|██████████| 400/400 [00:33<00:00, 11.85it/s]\n"
                              ]
                        },
                        {
                              "name": "stdout",
                              "output_type": "stream",
                              "text": [
                                    "Epoch 17/50, Train Loss: 0.1778, Train Acc: 0.93, Val Loss: 0.2348, Val Acc: 0.91\n",
                                    "Early stopping\n"
                              ]
                        }
                  ],
                  "source": [
                        "train_losses, val_losses = train_model(\n",
                        "    model=transformer_model,\n",
                        "    criterion=criterion,\n",
                        "    optimizer=optimizer,\n",
                        "    train_loader=train_dl,\n",
                        "    val_loader=val_dl, \n",
                        "    model_type=\"bin\", \n",
                        "    epoch_count=50,\n",
                        "    device=device,\n",
                        "    early_stopping=True,\n",
                        ")"
                  ]
            },
            {
                  "cell_type": "markdown",
                  "metadata": {},
                  "source": [
                        "#### Evaluation"
                  ]
            },
            {
                  "cell_type": "code",
                  "execution_count": 12,
                  "metadata": {},
                  "outputs": [
                        {
                              "data": {
                                    "image/png": "[encoded data removed]",
                                    "text/plain": [
                                          "<Figure size 640x480 with 1 Axes>"
                                    ]
                              },
                              "metadata": {},
                              "output_type": "display_data"
                        }
                  ],
                  "source": [
                        "plot_losses(train_losses, val_losses, \"Loss change during training for Transformer model\")"
                  ]
            },
            {
                  "cell_type": "code",
                  "execution_count": null,
                  "metadata": {},
                  "outputs": [],
                  "source": [
                        "# eval_acc_in_binary_task(transformer_model, X_train, y_train, 'Train', device)\n",
                        "# eval_acc_in_binary_task(transformer_model, X_val, y_val, 'Validation', device)\n",
                        "y_pred, acc = eval_acc_in_binary_task(transformer_model, X_test, y_test, 'Test', device)"
                  ]
            },
            {
                  "cell_type": "code",
                  "execution_count": 15,
                  "metadata": {},
                  "outputs": [
                        {
                              "data": {
                                    "image/png": "[encoded data removed]",
                                    "text/plain": [
                                          "<Figure size 800x600 with 2 Axes>"
                                    ]
                              },
                              "metadata": {},
                              "output_type": "display_data"
                        }
                  ],
                  "source": [
                        "plot_conf_matrix(y_test, y_pred, CLASSES)"
                  ]
            },
            {
                  "cell_type": "markdown",
                  "metadata": {},
                  "source": [
                        "### GRU"
                  ]
            },
            {
                  "cell_type": "code",
                  "execution_count": 35,
                  "metadata": {},
                  "outputs": [],
                  "source": [
                        "class GRU(nn.Module):\n",
                        "\n",
                        "    def __init__(self, input_size, hidden_size, num_layers=4, units=512, dropout_rate=0.3):\n",
                        "        torch.manual_seed(SEED)\n",
                        "        random.seed(SEED)\n",
                        "        np.random.seed(SEED)\n",
                        "\n",
                        "        super().__init__()\n",
                        "        self.gru = nn.GRU(\n",
                        "            input_size=input_size, \n",
                        "            hidden_size=hidden_size, \n",
                        "            batch_first=True,\n",
                        "            num_layers=num_layers,\n",
                        "            dropout=dropout_rate,\n",
                        "        )\n",
                        "        self.dropout = nn.Dropout(dropout_rate)\n",
                        "        self.fc1 = nn.Linear(hidden_size, units)\n",
                        "        self.fc2 = nn.Linear(units, 1)\n",
                        "        self.bc1 = nn.BatchNorm1d(hidden_size)\n",
                        "        self.bc2 = nn.BatchNorm1d(units)\n",
                        "        self.sigmoid = nn.Sigmoid()\n",
                        "        self.relu = nn.ReLU()\n",
                        "\n",
                        "    def forward(self, x):\n",
                        "        out = self.gru(x)[0][:, -1, :]\n",
                        "        out = self.dropout(out)\n",
                        "        out = self.bc1(out)\n",
                        "        out = self.fc1(out)\n",
                        "        out = self.dropout(out)\n",
                        "        out = self.relu(out)\n",
                        "        out = self.bc2(out)\n",
                        "        out = self.fc2(out)\n",
                        "        out = self.sigmoid(out)\n",
                        "        return out"
                  ]
            },
            {
                  "cell_type": "code",
                  "execution_count": 36,
                  "metadata": {},
                  "outputs": [
                        {
                              "name": "stderr",
                              "output_type": "stream",
                              "text": [
                                    "c:\\Users\\izate\\anaconda3\\envs\\dl2\\lib\\site-packages\\tqdm\\auto.py:21: TqdmWarning: IProgress not found. Please update jupyter and ipywidgets. See https://ipywidgets.readthedocs.io/en/stable/user_install.html\n",
                                    "  from .autonotebook import tqdm as notebook_tqdm\n",
                                    "c:\\Users\\izate\\anaconda3\\envs\\dl2\\lib\\site-packages\\transformers\\utils\\generic.py:485: UserWarning: torch.utils._pytree._register_pytree_node is deprecated. Please use torch.utils._pytree.register_pytree_node instead.\n",
                                    "  _torch_pytree._register_pytree_node(\n"
                              ]
                        }
                  ],
                  "source": [
                        "input_size = 20\n",
                        "hidden_size = 64\n",
                        "num_layers = 4\n",
                        "\n",
                        "gru_model = GRU(input_size=input_size, hidden_size=hidden_size, num_layers=num_layers).to(device)\n",
                        "criterion = nn.BCELoss()\n",
                        "optimizer = optim.Adam(gru_model.parameters(), weight_decay=1e-5)"
                  ]
            },
            {
                  "cell_type": "code",
                  "execution_count": 37,
                  "metadata": {},
                  "outputs": [
                        {
                              "data": {
                                    "text/plain": [
                                          "==========================================================================================\n",
                                          "Layer (type:depth-idx)                   Output Shape              Param #\n",
                                          "==========================================================================================\n",
                                          "GRU                                      [128, 1]                  --\n",
                                          "├─GRU: 1-1                               [128, 99, 64]             91,392\n",
                                          "├─Dropout: 1-2                           [128, 64]                 --\n",
                                          "├─BatchNorm1d: 1-3                       [128, 64]                 128\n",
                                          "├─Linear: 1-4                            [128, 512]                33,280\n",
                                          "├─Dropout: 1-5                           [128, 512]                --\n",
                                          "├─ReLU: 1-6                              [128, 512]                --\n",
                                          "├─BatchNorm1d: 1-7                       [128, 512]                1,024\n",
                                          "├─Linear: 1-8                            [128, 1]                  513\n",
                                          "├─Sigmoid: 1-9                           [128, 1]                  --\n",
                                          "==========================================================================================\n",
                                          "Total params: 126,337\n",
                                          "Trainable params: 126,337\n",
                                          "Non-trainable params: 0\n",
                                          "Total mult-adds (G): 1.16\n",
                                          "==========================================================================================\n",
                                          "Input size (MB): 1.01\n",
                                          "Forward/backward pass size (MB): 7.60\n",
                                          "Params size (MB): 0.51\n",
                                          "Estimated Total Size (MB): 9.12\n",
                                          "=========================================================================================="
                                    ]
                              },
                              "execution_count": 37,
                              "metadata": {},
                              "output_type": "execute_result"
                        }
                  ],
                  "source": [
                        "summary(gru_model, input_size=(128, 99, 20))"
                  ]
            },
            {
                  "cell_type": "code",
                  "execution_count": 38,
                  "metadata": {},
                  "outputs": [
                        {
                              "name": "stderr",
                              "output_type": "stream",
                              "text": [
                                    "Epoch 1: 100%|██████████| 400/400 [00:05<00:00, 77.84it/s]\n"
                              ]
                        },
                        {
                              "name": "stdout",
                              "output_type": "stream",
                              "text": [
                                    "Epoch 1/50, Train Loss: 0.6281, Train Acc: 0.65, Val Loss: 0.5450, Val Acc: 0.73\n"
                              ]
                        },
                        {
                              "name": "stderr",
                              "output_type": "stream",
                              "text": [
                                    "Epoch 2: 100%|██████████| 400/400 [00:05<00:00, 77.27it/s]\n"
                              ]
                        },
                        {
                              "name": "stdout",
                              "output_type": "stream",
                              "text": [
                                    "Epoch 2/50, Train Loss: 0.4350, Train Acc: 0.79, Val Loss: 0.3807, Val Acc: 0.84\n"
                              ]
                        },
                        {
                              "name": "stderr",
                              "output_type": "stream",
                              "text": [
                                    "Epoch 3: 100%|██████████| 400/400 [00:05<00:00, 77.10it/s]\n"
                              ]
                        },
                        {
                              "name": "stdout",
                              "output_type": "stream",
                              "text": [
                                    "Epoch 3/50, Train Loss: 0.2811, Train Acc: 0.88, Val Loss: 0.2522, Val Acc: 0.90\n"
                              ]
                        },
                        {
                              "name": "stderr",
                              "output_type": "stream",
                              "text": [
                                    "Epoch 4: 100%|██████████| 400/400 [00:05<00:00, 75.74it/s]\n"
                              ]
                        },
                        {
                              "name": "stdout",
                              "output_type": "stream",
                              "text": [
                                    "Epoch 4/50, Train Loss: 0.2133, Train Acc: 0.92, Val Loss: 0.2759, Val Acc: 0.88\n"
                              ]
                        },
                        {
                              "name": "stderr",
                              "output_type": "stream",
                              "text": [
                                    "Epoch 5: 100%|██████████| 400/400 [00:05<00:00, 75.48it/s]\n"
                              ]
                        },
                        {
                              "name": "stdout",
                              "output_type": "stream",
                              "text": [
                                    "Epoch 5/50, Train Loss: 0.1841, Train Acc: 0.93, Val Loss: 0.2337, Val Acc: 0.91\n"
                              ]
                        },
                        {
                              "name": "stderr",
                              "output_type": "stream",
                              "text": [
                                    "Epoch 6: 100%|██████████| 400/400 [00:05<00:00, 77.83it/s]\n"
                              ]
                        },
                        {
                              "name": "stdout",
                              "output_type": "stream",
                              "text": [
                                    "Epoch 6/50, Train Loss: 0.1635, Train Acc: 0.94, Val Loss: 0.1462, Val Acc: 0.94\n"
                              ]
                        },
                        {
                              "name": "stderr",
                              "output_type": "stream",
                              "text": [
                                    "Epoch 7: 100%|██████████| 400/400 [00:05<00:00, 77.24it/s]\n"
                              ]
                        },
                        {
                              "name": "stdout",
                              "output_type": "stream",
                              "text": [
                                    "Epoch 7/50, Train Loss: 0.1493, Train Acc: 0.94, Val Loss: 0.1668, Val Acc: 0.93\n"
                              ]
                        },
                        {
                              "name": "stderr",
                              "output_type": "stream",
                              "text": [
                                    "Epoch 8: 100%|██████████| 400/400 [00:05<00:00, 77.37it/s]\n"
                              ]
                        },
                        {
                              "name": "stdout",
                              "output_type": "stream",
                              "text": [
                                    "Epoch 8/50, Train Loss: 0.1384, Train Acc: 0.95, Val Loss: 0.1347, Val Acc: 0.95\n"
                              ]
                        },
                        {
                              "name": "stderr",
                              "output_type": "stream",
                              "text": [
                                    "Epoch 9: 100%|██████████| 400/400 [00:05<00:00, 77.19it/s]\n"
                              ]
                        },
                        {
                              "name": "stdout",
                              "output_type": "stream",
                              "text": [
                                    "Epoch 9/50, Train Loss: 0.1285, Train Acc: 0.95, Val Loss: 0.1333, Val Acc: 0.95\n"
                              ]
                        },
                        {
                              "name": "stderr",
                              "output_type": "stream",
                              "text": [
                                    "Epoch 10: 100%|██████████| 400/400 [00:05<00:00, 77.78it/s]\n"
                              ]
                        },
                        {
                              "name": "stdout",
                              "output_type": "stream",
                              "text": [
                                    "Epoch 10/50, Train Loss: 0.1197, Train Acc: 0.95, Val Loss: 0.1405, Val Acc: 0.94\n"
                              ]
                        },
                        {
                              "name": "stderr",
                              "output_type": "stream",
                              "text": [
                                    "Epoch 11: 100%|██████████| 400/400 [00:05<00:00, 74.96it/s]\n"
                              ]
                        },
                        {
                              "name": "stdout",
                              "output_type": "stream",
                              "text": [
                                    "Epoch 11/50, Train Loss: 0.1117, Train Acc: 0.96, Val Loss: 0.1253, Val Acc: 0.95\n"
                              ]
                        },
                        {
                              "name": "stderr",
                              "output_type": "stream",
                              "text": [
                                    "Epoch 12: 100%|██████████| 400/400 [00:05<00:00, 73.99it/s]\n"
                              ]
                        },
                        {
                              "name": "stdout",
                              "output_type": "stream",
                              "text": [
                                    "Epoch 12/50, Train Loss: 0.1065, Train Acc: 0.96, Val Loss: 0.1610, Val Acc: 0.93\n"
                              ]
                        },
                        {
                              "name": "stderr",
                              "output_type": "stream",
                              "text": [
                                    "Epoch 13: 100%|██████████| 400/400 [00:05<00:00, 74.97it/s]\n"
                              ]
                        },
                        {
                              "name": "stdout",
                              "output_type": "stream",
                              "text": [
                                    "Epoch 13/50, Train Loss: 0.1013, Train Acc: 0.96, Val Loss: 0.1148, Val Acc: 0.95\n"
                              ]
                        },
                        {
                              "name": "stderr",
                              "output_type": "stream",
                              "text": [
                                    "Epoch 14: 100%|██████████| 400/400 [00:05<00:00, 73.03it/s]\n"
                              ]
                        },
                        {
                              "name": "stdout",
                              "output_type": "stream",
                              "text": [
                                    "Epoch 14/50, Train Loss: 0.0951, Train Acc: 0.96, Val Loss: 0.1180, Val Acc: 0.95\n"
                              ]
                        },
                        {
                              "name": "stderr",
                              "output_type": "stream",
                              "text": [
                                    "Epoch 15: 100%|██████████| 400/400 [00:05<00:00, 73.38it/s]\n"
                              ]
                        },
                        {
                              "name": "stdout",
                              "output_type": "stream",
                              "text": [
                                    "Epoch 15/50, Train Loss: 0.0896, Train Acc: 0.96, Val Loss: 0.1318, Val Acc: 0.95\n"
                              ]
                        },
                        {
                              "name": "stderr",
                              "output_type": "stream",
                              "text": [
                                    "Epoch 16: 100%|██████████| 400/400 [00:05<00:00, 73.44it/s]\n"
                              ]
                        },
                        {
                              "name": "stdout",
                              "output_type": "stream",
                              "text": [
                                    "Epoch 16/50, Train Loss: 0.0850, Train Acc: 0.97, Val Loss: 0.1093, Val Acc: 0.96\n"
                              ]
                        },
                        {
                              "name": "stderr",
                              "output_type": "stream",
                              "text": [
                                    "Epoch 17: 100%|██████████| 400/400 [00:05<00:00, 74.99it/s]\n"
                              ]
                        },
                        {
                              "name": "stdout",
                              "output_type": "stream",
                              "text": [
                                    "Epoch 17/50, Train Loss: 0.0815, Train Acc: 0.97, Val Loss: 0.1018, Val Acc: 0.96\n"
                              ]
                        },
                        {
                              "name": "stderr",
                              "output_type": "stream",
                              "text": [
                                    "Epoch 18: 100%|██████████| 400/400 [00:05<00:00, 74.89it/s]\n"
                              ]
                        },
                        {
                              "name": "stdout",
                              "output_type": "stream",
                              "text": [
                                    "Epoch 18/50, Train Loss: 0.0760, Train Acc: 0.97, Val Loss: 0.1053, Val Acc: 0.96\n"
                              ]
                        },
                        {
                              "name": "stderr",
                              "output_type": "stream",
                              "text": [
                                    "Epoch 19: 100%|██████████| 400/400 [00:05<00:00, 75.68it/s]\n"
                              ]
                        },
                        {
                              "name": "stdout",
                              "output_type": "stream",
                              "text": [
                                    "Epoch 19/50, Train Loss: 0.0736, Train Acc: 0.97, Val Loss: 0.1015, Val Acc: 0.96\n"
                              ]
                        },
                        {
                              "name": "stderr",
                              "output_type": "stream",
                              "text": [
                                    "Epoch 20: 100%|██████████| 400/400 [00:05<00:00, 72.53it/s]\n"
                              ]
                        },
                        {
                              "name": "stdout",
                              "output_type": "stream",
                              "text": [
                                    "Epoch 20/50, Train Loss: 0.0689, Train Acc: 0.97, Val Loss: 0.1028, Val Acc: 0.96\n"
                              ]
                        },
                        {
                              "name": "stderr",
                              "output_type": "stream",
                              "text": [
                                    "Epoch 21: 100%|██████████| 400/400 [00:05<00:00, 69.91it/s]\n"
                              ]
                        },
                        {
                              "name": "stdout",
                              "output_type": "stream",
                              "text": [
                                    "Epoch 21/50, Train Loss: 0.0681, Train Acc: 0.97, Val Loss: 0.1131, Val Acc: 0.96\n"
                              ]
                        },
                        {
                              "name": "stderr",
                              "output_type": "stream",
                              "text": [
                                    "Epoch 22: 100%|██████████| 400/400 [00:05<00:00, 70.83it/s]\n"
                              ]
                        },
                        {
                              "name": "stdout",
                              "output_type": "stream",
                              "text": [
                                    "Epoch 22/50, Train Loss: 0.0649, Train Acc: 0.97, Val Loss: 0.0994, Val Acc: 0.96\n"
                              ]
                        },
                        {
                              "name": "stderr",
                              "output_type": "stream",
                              "text": [
                                    "Epoch 23: 100%|██████████| 400/400 [00:05<00:00, 68.84it/s]\n"
                              ]
                        },
                        {
                              "name": "stdout",
                              "output_type": "stream",
                              "text": [
                                    "Epoch 23/50, Train Loss: 0.0605, Train Acc: 0.97, Val Loss: 0.1116, Val Acc: 0.96\n"
                              ]
                        },
                        {
                              "name": "stderr",
                              "output_type": "stream",
                              "text": [
                                    "Epoch 24: 100%|██████████| 400/400 [00:05<00:00, 72.97it/s]\n"
                              ]
                        },
                        {
                              "name": "stdout",
                              "output_type": "stream",
                              "text": [
                                    "Epoch 24/50, Train Loss: 0.0585, Train Acc: 0.98, Val Loss: 0.1041, Val Acc: 0.96\n"
                              ]
                        },
                        {
                              "name": "stderr",
                              "output_type": "stream",
                              "text": [
                                    "Epoch 25: 100%|██████████| 400/400 [00:05<00:00, 72.29it/s]\n"
                              ]
                        },
                        {
                              "name": "stdout",
                              "output_type": "stream",
                              "text": [
                                    "Epoch 25/50, Train Loss: 0.0560, Train Acc: 0.98, Val Loss: 0.1047, Val Acc: 0.96\n",
                                    "Early stopping\n"
                              ]
                        }
                  ],
                  "source": [
                        "train_losses, val_losses = train_model(\n",
                        "    model=gru_model,\n",
                        "    criterion=criterion,\n",
                        "    optimizer=optimizer,\n",
                        "    train_loader=train_dl,\n",
                        "    val_loader=val_dl, \n",
                        "    model_type=\"bin\", \n",
                        "    epoch_count=50,\n",
                        "    device=device,\n",
                        "    early_stopping=True,\n",
                        ")"
                  ]
            },
            {
                  "cell_type": "markdown",
                  "metadata": {},
                  "source": [
                        "#### Evaluation"
                  ]
            },
            {
                  "cell_type": "code",
                  "execution_count": 39,
                  "metadata": {},
                  "outputs": [
                        {
                              "data": {
                                    "image/png": "[encoded data removed]",
                                    "text/plain": [
                                          "<Figure size 640x480 with 1 Axes>"
                                    ]
                              },
                              "metadata": {},
                              "output_type": "display_data"
                        }
                  ],
                  "source": [
                        "plot_losses(train_losses, val_losses, \"Loss change during training for GRU model\")"
                  ]
            },
            {
                  "cell_type": "code",
                  "execution_count": 46,
                  "metadata": {},
                  "outputs": [
                        {
                              "name": "stdout",
                              "output_type": "stream",
                              "text": [
                                    "Validation accuracy: 0.9629\n",
                                    "Test accuracy: 0.9409\n"
                              ]
                        }
                  ],
                  "source": [
                        "# eval_acc_in_binary_task(gru_model, X_train, y_train, 'Train', device)\n",
                        "eval_acc_in_binary_task(gru_model, X_val, y_val, 'Validation', device)\n",
                        "y_pred, acc = eval_acc_in_binary_task(gru_model, X_test, y_test, 'Test', device)"
                  ]
            },
            {
                  "cell_type": "code",
                  "execution_count": 41,
                  "metadata": {},
                  "outputs": [
                        {
                              "data": {
                                    "image/png": "[encoded data removed]",
                                    "text/plain": [
                                          "<Figure size 800x600 with 2 Axes>"
                                    ]
                              },
                              "metadata": {},
                              "output_type": "display_data"
                        }
                  ],
                  "source": [
                        "plot_conf_matrix(y_test, y_pred, CLASSES)"
                  ]
            },
            {
                  "cell_type": "markdown",
                  "metadata": {},
                  "source": [
                        "### BI-LSTM"
                  ]
            },
            {
                  "cell_type": "code",
                  "execution_count": 8,
                  "metadata": {},
                  "outputs": [],
                  "source": [
                        "class BiLSTM(nn.Module):\n",
                        "\n",
                        "    def __init__(self, input_size, hidden_size, num_layers=4, units=512, dropout_rate=0.3):\n",
                        "        torch.manual_seed(SEED)\n",
                        "        random.seed(SEED)\n",
                        "        np.random.seed(SEED)\n",
                        "\n",
                        "        super().__init__()\n",
                        "        self.lstm = nn.LSTM(\n",
                        "            input_size=input_size, \n",
                        "            hidden_size=hidden_size, \n",
                        "            batch_first=True, \n",
                        "            bidirectional=True, \n",
                        "            num_layers=num_layers,\n",
                        "            dropout=dropout_rate,\n",
                        "        )\n",
                        "        self.dropout = nn.Dropout(dropout_rate)\n",
                        "        self.fc1 = nn.Linear(2*hidden_size, units)\n",
                        "        self.fc2 = nn.Linear(units, 1)\n",
                        "        self.bc1 = nn.BatchNorm1d(2*hidden_size)\n",
                        "        self.bc2 = nn.BatchNorm1d(units)\n",
                        "        self.sigmoid = nn.Sigmoid()\n",
                        "        self.relu = nn.ReLU()\n",
                        "\n",
                        "    def forward(self, x):\n",
                        "        out = self.lstm(x)[0][:, -1, :]\n",
                        "        out = self.dropout(out)\n",
                        "        out = self.bc1(out)\n",
                        "        out = self.fc1(out)\n",
                        "        out = self.dropout(out)\n",
                        "        out = self.relu(out)\n",
                        "        out = self.bc2(out)\n",
                        "        out = self.fc2(out)\n",
                        "        out = self.sigmoid(out)\n",
                        "        return out"
                  ]
            },
            {
                  "cell_type": "code",
                  "execution_count": 9,
                  "metadata": {},
                  "outputs": [],
                  "source": [
                        "input_size = 20\n",
                        "hidden_size = 32\n",
                        "num_layers = 4\n",
                        "\n",
                        "bilstm_model = BiLSTM(input_size=input_size, hidden_size=hidden_size, num_layers=num_layers).to(device)\n",
                        "criterion = nn.BCELoss()\n",
                        "optimizer = optim.Adam(bilstm_model.parameters(), weight_decay=1e-5)"
                  ]
            },
            {
                  "cell_type": "code",
                  "execution_count": 10,
                  "metadata": {},
                  "outputs": [
                        {
                              "data": {
                                    "text/plain": [
                                          "==========================================================================================\n",
                                          "Layer (type:depth-idx)                   Output Shape              Param #\n",
                                          "==========================================================================================\n",
                                          "BiLSTM                                   [128, 1]                  --\n",
                                          "├─LSTM: 1-1                              [128, 99, 64]             89,088\n",
                                          "├─Dropout: 1-2                           [128, 64]                 --\n",
                                          "├─BatchNorm1d: 1-3                       [128, 64]                 128\n",
                                          "├─Linear: 1-4                            [128, 512]                33,280\n",
                                          "├─Dropout: 1-5                           [128, 512]                --\n",
                                          "├─ReLU: 1-6                              [128, 512]                --\n",
                                          "├─BatchNorm1d: 1-7                       [128, 512]                1,024\n",
                                          "├─Linear: 1-8                            [128, 1]                  513\n",
                                          "├─Sigmoid: 1-9                           [128, 1]                  --\n",
                                          "==========================================================================================\n",
                                          "Total params: 124,033\n",
                                          "Trainable params: 124,033\n",
                                          "Non-trainable params: 0\n",
                                          "Total mult-adds (G): 1.13\n",
                                          "==========================================================================================\n",
                                          "Input size (MB): 1.01\n",
                                          "Forward/backward pass size (MB): 7.60\n",
                                          "Params size (MB): 0.50\n",
                                          "Estimated Total Size (MB): 9.11\n",
                                          "=========================================================================================="
                                    ]
                              },
                              "execution_count": 10,
                              "metadata": {},
                              "output_type": "execute_result"
                        }
                  ],
                  "source": [
                        "summary(bilstm_model, input_size=(128, 99, 20))"
                  ]
            },
            {
                  "cell_type": "code",
                  "execution_count": 11,
                  "metadata": {},
                  "outputs": [
                        {
                              "name": "stderr",
                              "output_type": "stream",
                              "text": [
                                    "Epoch 1: 100%|██████████| 400/400 [00:04<00:00, 86.52it/s]\n"
                              ]
                        },
                        {
                              "name": "stdout",
                              "output_type": "stream",
                              "text": [
                                    "Epoch 1/50, Train Loss: 0.6239, Train Acc: 0.65, Val Loss: 0.5674, Val Acc: 0.70\n"
                              ]
                        },
                        {
                              "name": "stderr",
                              "output_type": "stream",
                              "text": [
                                    "Epoch 2: 100%|██████████| 400/400 [00:04<00:00, 90.57it/s]\n"
                              ]
                        },
                        {
                              "name": "stdout",
                              "output_type": "stream",
                              "text": [
                                    "Epoch 2/50, Train Loss: 0.5064, Train Acc: 0.75, Val Loss: 0.4560, Val Acc: 0.77\n"
                              ]
                        },
                        {
                              "name": "stderr",
                              "output_type": "stream",
                              "text": [
                                    "Epoch 3: 100%|██████████| 400/400 [00:04<00:00, 90.61it/s]\n"
                              ]
                        },
                        {
                              "name": "stdout",
                              "output_type": "stream",
                              "text": [
                                    "Epoch 3/50, Train Loss: 0.4375, Train Acc: 0.79, Val Loss: 0.4295, Val Acc: 0.79\n"
                              ]
                        },
                        {
                              "name": "stderr",
                              "output_type": "stream",
                              "text": [
                                    "Epoch 4: 100%|██████████| 400/400 [00:04<00:00, 90.79it/s]\n"
                              ]
                        },
                        {
                              "name": "stdout",
                              "output_type": "stream",
                              "text": [
                                    "Epoch 4/50, Train Loss: 0.3717, Train Acc: 0.83, Val Loss: 0.4446, Val Acc: 0.77\n"
                              ]
                        },
                        {
                              "name": "stderr",
                              "output_type": "stream",
                              "text": [
                                    "Epoch 5: 100%|██████████| 400/400 [00:04<00:00, 89.47it/s]\n"
                              ]
                        },
                        {
                              "name": "stdout",
                              "output_type": "stream",
                              "text": [
                                    "Epoch 5/50, Train Loss: 0.3035, Train Acc: 0.87, Val Loss: 0.3957, Val Acc: 0.81\n"
                              ]
                        },
                        {
                              "name": "stderr",
                              "output_type": "stream",
                              "text": [
                                    "Epoch 6: 100%|██████████| 400/400 [00:04<00:00, 89.11it/s]\n"
                              ]
                        },
                        {
                              "name": "stdout",
                              "output_type": "stream",
                              "text": [
                                    "Epoch 6/50, Train Loss: 0.2512, Train Acc: 0.90, Val Loss: 0.2327, Val Acc: 0.91\n"
                              ]
                        },
                        {
                              "name": "stderr",
                              "output_type": "stream",
                              "text": [
                                    "Epoch 7: 100%|██████████| 400/400 [00:04<00:00, 89.97it/s]\n"
                              ]
                        },
                        {
                              "name": "stdout",
                              "output_type": "stream",
                              "text": [
                                    "Epoch 7/50, Train Loss: 0.2188, Train Acc: 0.91, Val Loss: 0.2144, Val Acc: 0.91\n"
                              ]
                        },
                        {
                              "name": "stderr",
                              "output_type": "stream",
                              "text": [
                                    "Epoch 8: 100%|██████████| 400/400 [00:04<00:00, 89.87it/s]\n"
                              ]
                        },
                        {
                              "name": "stdout",
                              "output_type": "stream",
                              "text": [
                                    "Epoch 8/50, Train Loss: 0.2028, Train Acc: 0.92, Val Loss: 0.1999, Val Acc: 0.92\n"
                              ]
                        },
                        {
                              "name": "stderr",
                              "output_type": "stream",
                              "text": [
                                    "Epoch 9: 100%|██████████| 400/400 [00:04<00:00, 90.00it/s]\n"
                              ]
                        },
                        {
                              "name": "stdout",
                              "output_type": "stream",
                              "text": [
                                    "Epoch 9/50, Train Loss: 0.1822, Train Acc: 0.93, Val Loss: 0.2028, Val Acc: 0.91\n"
                              ]
                        },
                        {
                              "name": "stderr",
                              "output_type": "stream",
                              "text": [
                                    "Epoch 10: 100%|██████████| 400/400 [00:04<00:00, 86.60it/s]\n"
                              ]
                        },
                        {
                              "name": "stdout",
                              "output_type": "stream",
                              "text": [
                                    "Epoch 10/50, Train Loss: 0.1736, Train Acc: 0.93, Val Loss: 0.1878, Val Acc: 0.93\n"
                              ]
                        },
                        {
                              "name": "stderr",
                              "output_type": "stream",
                              "text": [
                                    "Epoch 11: 100%|██████████| 400/400 [00:04<00:00, 88.66it/s]\n"
                              ]
                        },
                        {
                              "name": "stdout",
                              "output_type": "stream",
                              "text": [
                                    "Epoch 11/50, Train Loss: 0.1606, Train Acc: 0.94, Val Loss: 0.2607, Val Acc: 0.91\n"
                              ]
                        },
                        {
                              "name": "stderr",
                              "output_type": "stream",
                              "text": [
                                    "Epoch 12: 100%|██████████| 400/400 [00:04<00:00, 87.23it/s]\n"
                              ]
                        },
                        {
                              "name": "stdout",
                              "output_type": "stream",
                              "text": [
                                    "Epoch 12/50, Train Loss: 0.1529, Train Acc: 0.94, Val Loss: 0.2335, Val Acc: 0.92\n"
                              ]
                        },
                        {
                              "name": "stderr",
                              "output_type": "stream",
                              "text": [
                                    "Epoch 13: 100%|██████████| 400/400 [00:04<00:00, 87.81it/s]\n"
                              ]
                        },
                        {
                              "name": "stdout",
                              "output_type": "stream",
                              "text": [
                                    "Epoch 13/50, Train Loss: 0.1462, Train Acc: 0.94, Val Loss: 0.1901, Val Acc: 0.93\n",
                                    "Early stopping\n"
                              ]
                        }
                  ],
                  "source": [
                        "train_losses, val_losses = train_model(\n",
                        "    model=bilstm_model,\n",
                        "    criterion=criterion,\n",
                        "    optimizer=optimizer,\n",
                        "    train_loader=train_dl,\n",
                        "    val_loader=val_dl, \n",
                        "    model_type=\"bin\", \n",
                        "    epoch_count=50,\n",
                        "    device=device,\n",
                        "    early_stopping=True,\n",
                        ")"
                  ]
            },
            {
                  "cell_type": "markdown",
                  "metadata": {},
                  "source": [
                        "#### Evaluation"
                  ]
            },
            {
                  "cell_type": "code",
                  "execution_count": 12,
                  "metadata": {},
                  "outputs": [
                        {
                              "data": {
                                    "image/png": "[encoded data removed]",
                                    "text/plain": [
                                          "<Figure size 640x480 with 1 Axes>"
                                    ]
                              },
                              "metadata": {},
                              "output_type": "display_data"
                        }
                  ],
                  "source": [
                        "plot_losses(train_losses, val_losses, \"Loss change during training for Bi-LSTM model\")"
                  ]
            },
            {
                  "cell_type": "code",
                  "execution_count": 16,
                  "metadata": {},
                  "outputs": [
                        {
                              "name": "stdout",
                              "output_type": "stream",
                              "text": [
                                    "Validation accuracy: 0.9254\n",
                                    "Test accuracy: 0.9494\n"
                              ]
                        }
                  ],
                  "source": [
                        "# eval_acc_in_binary_task(bilstm_model, X_train, y_train, 'Train', device)\n",
                        "eval_acc_in_binary_task(bilstm_model, X_val, y_val, 'Validation', device)\n",
                        "y_pred, acc = eval_acc_in_binary_task(bilstm_model, X_test, y_test, 'Test', device)"
                  ]
            },
            {
                  "cell_type": "code",
                  "execution_count": 17,
                  "metadata": {},
                  "outputs": [
                        {
                              "data": {
                                    "image/png": "[encoded data removed]",
                                    "text/plain": [
                                          "<Figure size 800x600 with 2 Axes>"
                                    ]
                              },
                              "metadata": {},
                              "output_type": "display_data"
                        }
                  ],
                  "source": [
                        "plot_conf_matrix(y_test, y_pred, CLASSES)"
                  ]
            },
            {
                  "cell_type": "code",
                  "execution_count": null,
                  "metadata": {},
                  "outputs": [],
                  "source": [
                        "# Save model dict as it is best model for this task\n",
                        "torch.save(bilstm_model.state_dict(), \"unknown_best_model\")"
                  ]
            }
      ],
      "metadata": {
            "kernelspec": {
                  "display_name": "Python 3",
                  "language": "python",
                  "name": "python3"
            },
            "language_info": {
                  "codemirror_mode": {
                        "name": "ipython",
                        "version": 3
                  },
                  "file_extension": ".py",
                  "mimetype": "text/x-python",
                  "name": "python",
                  "nbconvert_exporter": "python",
                  "pygments_lexer": "ipython3",
                  "version": "3.10.14"
            }
      },
      "nbformat": 4,
      "nbformat_minor": 2
}
