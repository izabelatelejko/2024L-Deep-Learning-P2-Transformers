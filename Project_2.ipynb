{
 "cells": [
  {
   "cell_type": "code",
   "execution_count": 1,
   "metadata": {},
   "outputs": [],
   "source": [
    "from tqdm import tqdm\n",
    "import numpy as np\n",
    "import torch\n",
    "import torch.nn as nn\n",
    "import torch.optim as optim\n",
    "\n",
    "\n",
    "from src.const import AUDIO_PATH, MAIN_LABELS, BATCH_SIZE, VALIDATION_SPLIT, SEED\n",
    "from src.preprocess import load_and_preprocess, transform_to_data_loader"
   ]
  },
  {
   "cell_type": "markdown",
   "metadata": {},
   "source": [
    "### Unknown vs known task"
   ]
  },
  {
   "cell_type": "code",
   "execution_count": 2,
   "metadata": {},
   "outputs": [
    {
     "name": "stdout",
     "output_type": "stream",
     "text": [
      "Loading augmented data...\n",
      "Found 64727 files belonging to 31 classes.\n",
      "Using 51782 files for training.\n",
      "Using 12945 files for validation.\n",
      "Finished\n",
      "Creating data with only main classes...\n",
      "Finished\n",
      "Creating binary dataset...\n",
      "Finished\n",
      "Creating main dataset...\n",
      "Found 64727 files belonging to 31 classes.\n",
      "Using 51782 files for training.\n",
      "Using 12945 files for validation.\n",
      "Finished\n",
      "Transforming audio data to spectograms...\n",
      "Finished\n",
      "Augmenting spectograms...\n",
      "Finished\n",
      "Transforming data to numpy arrays...\n"
     ]
    },
    {
     "name": "stderr",
     "output_type": "stream",
     "text": [
      "Processing dataset: 100%|██████████| 70776/70776 [06:12<00:00, 190.14it/s] \n",
      "Processing dataset: 100%|██████████| 12945/12945 [00:41<00:00, 308.30it/s]\n",
      "Processing dataset: 100%|██████████| 37988/37988 [01:42<00:00, 369.83it/s]\n",
      "Processing dataset: 100%|██████████| 12945/12945 [00:34<00:00, 372.28it/s]\n"
     ]
    },
    {
     "name": "stdout",
     "output_type": "stream",
     "text": [
      "Finished\n"
     ]
    }
   ],
   "source": [
    "train_ds_bin_X, train_ds_bin_y, val_ds_bin_X, val_ds_bin_y, train_ds_main_X, train_ds_main_y, val_ds_main_X, val_ds_main_y = load_and_preprocess(plot_samples = True)"
   ]
  },
  {
   "cell_type": "code",
   "execution_count": 38,
   "metadata": {},
   "outputs": [],
   "source": [
    "train_ds_bin_X[train_ds_bin_X == -np.inf] = np.min(train_ds_bin_X[train_ds_bin_X != -np.inf])\n",
    "val_ds_bin_X[val_ds_bin_X == -np.inf] = np.min(train_ds_bin_X[train_ds_bin_X != -np.inf])\n",
    "train_ds_main_X[train_ds_main_X == -np.inf] = np.min(train_ds_main_X[train_ds_main_X != -np.inf])\n",
    "val_ds_main_X[val_ds_main_X == -np.inf] = np.min(train_ds_main_X[train_ds_main_X != -np.inf])"
   ]
  },
  {
   "cell_type": "code",
   "execution_count": 11,
   "metadata": {},
   "outputs": [],
   "source": [
    "# np.save('data/arrays/train_ds_bin_X.npy', train_ds_bin_X)\n",
    "# np.save('data/arrays/train_ds_bin_y.npy', train_ds_bin_y)\n",
    "# np.save('data/arrays/val_ds_bin_X.npy', val_ds_bin_X)\n",
    "# np.save('data/arrays/val_ds_bin_y.npy', val_ds_bin_y)\n",
    "# np.save('data/arrays/train_ds_main_X.npy', train_ds_main_X)\n",
    "# np.save('data/arrays/train_ds_main_y.npy', train_ds_main_y)\n",
    "# np.save('data/arrays/val_ds_main_X.npy', val_ds_main_X)\n",
    "# np.save('data/arrays/val_ds_main_y.npy', val_ds_main_y)"
   ]
  },
  {
   "cell_type": "code",
   "execution_count": 2,
   "metadata": {},
   "outputs": [],
   "source": [
    "# train_ds_bin_X = np.load('data/arrays/train_ds_bin_X.npy')\n",
    "# train_ds_bin_y = np.load('data/arrays/train_ds_bin_y.npy')\n",
    "# val_ds_bin_X = np.load('data/arrays/val_ds_bin_X.npy')\n",
    "# val_ds_bin_y = np.load('data/arrays/val_ds_bin_y.npy')\n",
    "# train_ds_main_X = np.load('data/arrays/train_ds_main_X.npy')\n",
    "# train_ds_main_y = np.load('data/arrays/train_ds_main_y.npy')\n",
    "# val_ds_main_X = np.load('data/arrays/val_ds_main_X.npy')\n",
    "# val_ds_main_y = np.load('data/arrays/val_ds_main_y.npy')"
   ]
  },
  {
   "cell_type": "code",
   "execution_count": 4,
   "metadata": {},
   "outputs": [
    {
     "data": {
      "text/plain": [
       "device(type='cuda')"
      ]
     },
     "execution_count": 4,
     "metadata": {},
     "output_type": "execute_result"
    }
   ],
   "source": [
    "device = torch.device(\"cuda\" if torch.cuda.is_available() else \"cpu\")\n",
    "device"
   ]
  },
  {
   "cell_type": "code",
   "execution_count": 69,
   "metadata": {},
   "outputs": [],
   "source": [
    "train_loader_bin = transform_to_data_loader(train_ds_bin_X, train_ds_bin_y, device=device)\n",
    "val_loader_bin = transform_to_data_loader(val_ds_bin_X, val_ds_bin_y, device=device)\n",
    "\n",
    "train_loader_main = transform_to_data_loader(train_ds_main_X, train_ds_main_y, device=device)\n",
    "val_loader_main = transform_to_data_loader(val_ds_main_X, val_ds_main_y, device=device)"
   ]
  },
  {
   "cell_type": "code",
   "execution_count": 70,
   "metadata": {},
   "outputs": [],
   "source": [
    "class bin_BiLSTM(nn.Module):\n",
    "    def __init__(self, input_size, hidden_size):\n",
    "        super().__init__()\n",
    "        self.lstm = nn.LSTM(\n",
    "            input_size=input_size, \n",
    "            hidden_size=hidden_size, \n",
    "            batch_first=True, \n",
    "            bidirectional=True, \n",
    "            num_layers=2\n",
    "        )\n",
    "        self.dropout = nn.Dropout(0.2)\n",
    "        self.fc1 = nn.Linear(2*hidden_size, 64)  # *2 because of bidirectional\n",
    "        self.fc2 = nn.Linear(64, 1)\n",
    "        self.sigmoid = nn.Sigmoid()\n",
    "        self.relu = nn.ReLU()\n",
    "        self.conv = nn.Conv2d(in_channels=1, out_channels=1, kernel_size=3, padding=1)\n",
    "\n",
    "    def forward(self, x):\n",
    "        out = self.conv(x.unsqueeze(1)).squeeze(1)\n",
    "        out, _ = self.lstm(out)\n",
    "        out = torch.sum(out, dim=1)\n",
    "        out = self.dropout(out)\n",
    "        out = self.fc1(out)\n",
    "        out = self.dropout(out)\n",
    "        out = self.relu(out)\n",
    "        out = self.fc2(out)\n",
    "        out = self.sigmoid(out)\n",
    "        return out"
   ]
  },
  {
   "cell_type": "code",
   "execution_count": 71,
   "metadata": {},
   "outputs": [],
   "source": [
    "class main_BiLSTM(nn.Module):\n",
    "    def __init__(self, input_size, hidden_size, num_class):\n",
    "        super().__init__()\n",
    "        self.lstm = nn.LSTM(\n",
    "            input_size=input_size, \n",
    "            hidden_size=hidden_size, \n",
    "            batch_first=True, \n",
    "            bidirectional=True, \n",
    "            num_layers=2\n",
    "        )\n",
    "        self.dropout = nn.Dropout(0.2)\n",
    "        self.fc1 = nn.Linear(2*hidden_size, 64)  # *2 because of bidirectional\n",
    "        self.fc2 = nn.Linear(64, num_class)\n",
    "        self.softmax = nn.Softmax()\n",
    "        self.relu = nn.ReLU()\n",
    "        self.conv = nn.Conv2d(in_channels=1, out_channels=1, kernel_size=3, padding=1)\n",
    "\n",
    "    def forward(self, x):\n",
    "        out = self.conv(x.unsqueeze(1)).squeeze(1)\n",
    "        out, _ = self.lstm(out)\n",
    "        out = torch.sum(out, dim=1)\n",
    "        out = self.dropout(out)\n",
    "        out = self.fc1(out)\n",
    "        out = self.dropout(out)\n",
    "        out = self.relu(out)\n",
    "        out = self.fc2(out)\n",
    "        out = self.softmax(out)\n",
    "        return out"
   ]
  },
  {
   "cell_type": "code",
   "execution_count": 72,
   "metadata": {},
   "outputs": [],
   "source": [
    "class bin_Transformer(nn.Module):\n",
    "    def __init__(self, d_model, n_head, num_layers):\n",
    "        super().__init__()\n",
    "        self.trans_enc_layer = nn.TransformerEncoderLayer(d_model=d_model, nhead=n_head, batch_first=True, activation=\"relu\").to(device)\n",
    "        self.transformer_encoder = nn.TransformerEncoder(self.trans_enc_layer, num_layers=num_layers).to(device)\n",
    "        self.dropout = nn.Dropout(0.2)\n",
    "        self.fc1 = nn.Linear(d_model, 64)\n",
    "        self.fc2 = nn.Linear(64, 1)\n",
    "        self.sigmoid = nn.Sigmoid()\n",
    "        self.relu = nn.ReLU()\n",
    "        self.conv = nn.Conv2d(in_channels=1, out_channels=1, kernel_size=3, padding=1)\n",
    "\n",
    "    def forward(self, x):\n",
    "        out = self.conv(x.unsqueeze(1)).squeeze(1)\n",
    "        out = self.transformer_encoder(out)\n",
    "        out = torch.sum(out, dim=1)\n",
    "        out = self.dropout(out)\n",
    "        out = self.fc1(out)\n",
    "        out = self.dropout(out)\n",
    "        out = self.relu(out)\n",
    "        out = self.fc2(out)\n",
    "        out = self.sigmoid(out)\n",
    "        return out"
   ]
  },
  {
   "cell_type": "code",
   "execution_count": 73,
   "metadata": {},
   "outputs": [],
   "source": [
    "class main_Transformer(nn.Module):\n",
    "    def __init__(self, d_model, n_head, num_layers, num_class):\n",
    "        super().__init__()\n",
    "        self.trans_enc_layer = nn.TransformerEncoderLayer(d_model=d_model, nhead=n_head, batch_first=True, activation=\"relu\").to(device)\n",
    "        self.transformer_encoder = nn.TransformerEncoder(self.trans_enc_layer, num_layers=num_layers).to(device)\n",
    "        self.dropout = nn.Dropout(0.2)\n",
    "        self.fc1 = nn.Linear(d_model, 64)\n",
    "        self.fc2 = nn.Linear(64, num_class)\n",
    "        self.softmax = nn.Softmax(dim=1)\n",
    "        self.relu = nn.ReLU()\n",
    "        self.conv = nn.Conv2d(in_channels=1, out_channels=1, kernel_size=3, padding=1)\n",
    "\n",
    "    def forward(self, x):\n",
    "        out = self.conv(x.unsqueeze(1)).squeeze(1)\n",
    "        out = self.transformer_encoder(out)\n",
    "        out = torch.sum(out, dim=1)\n",
    "        out = self.dropout(out)\n",
    "        out = self.fc1(out)\n",
    "        out = self.dropout(out)\n",
    "        out = self.relu(out)\n",
    "        out = self.fc2(out)\n",
    "        out = self.softmax(out)\n",
    "        return out"
   ]
  },
  {
   "cell_type": "code",
   "execution_count": 74,
   "metadata": {},
   "outputs": [],
   "source": [
    "# BILSTM for known vs. unknown classification task\n",
    "input_size = 128\n",
    "hidden_size = 128\n",
    "\n",
    "bin_bilstm_model = bin_BiLSTM(input_size, hidden_size).to(device)\n",
    "bin_bilstm_criterion = nn.BCELoss()\n",
    "bin_bilstm_optimizer = optim.Adam(bin_bilstm_model.parameters())"
   ]
  },
  {
   "cell_type": "code",
   "execution_count": 75,
   "metadata": {},
   "outputs": [],
   "source": [
    "# BILSTM for main classification task\n",
    "input_size = 128\n",
    "hidden_size = 128\n",
    "num_class = 10\n",
    "\n",
    "main_bilstm_model = main_BiLSTM(input_size, hidden_size, num_class).to(device)\n",
    "main_bilstm_criterion = nn.CrossEntropyLoss()\n",
    "main_bilstm_optimizer = optim.Adam(main_bilstm_model.parameters())"
   ]
  },
  {
   "cell_type": "code",
   "execution_count": 76,
   "metadata": {},
   "outputs": [],
   "source": [
    "# Transformer for known vs. unknown task\n",
    "d_model = 128\n",
    "n_head = 8\n",
    "num_layers = 1\n",
    "\n",
    "bin_transformer_model = bin_Transformer(d_model, n_head, num_layers).to(device)\n",
    "bin_transformer_criterion = nn.BCELoss()\n",
    "bin_transformer_optimizer = optim.Adam(bin_transformer_model.parameters())"
   ]
  },
  {
   "cell_type": "code",
   "execution_count": 77,
   "metadata": {},
   "outputs": [],
   "source": [
    "# Transformer for main task\n",
    "d_model = 128\n",
    "n_head = 8\n",
    "num_class = 10\n",
    "num_layers = 1\n",
    "\n",
    "main_transformer_model = main_Transformer(d_model, n_head, num_layers, num_class).to(device)\n",
    "main_transformer_criterion = nn.BCELoss()\n",
    "main_transformer_optimizer = optim.Adam(main_transformer_model.parameters())"
   ]
  },
  {
   "cell_type": "code",
   "execution_count": 79,
   "metadata": {},
   "outputs": [],
   "source": [
    "def train_model(\n",
    "        model, \n",
    "        criterion, \n",
    "        optimizer, \n",
    "        train_loader, \n",
    "        val_loader, \n",
    "        model_type, \n",
    "        epoch_count\n",
    "    ):\n",
    "    \n",
    "    train_losses = []\n",
    "    val_losses = []\n",
    "    best_val_loss = float('inf')\n",
    "    patience = 5\n",
    "    no_improve_count = 0\n",
    "\n",
    "    # Training\n",
    "    for epoch in range(epoch_count):\n",
    "        model.train()\n",
    "        train_loss = 0\n",
    "        correct_train = 0\n",
    "        total_train = 0\n",
    "\n",
    "        for batch_X, batch_y in tqdm(train_loader, f\"Epoch {epoch+1}\"):\n",
    "            model.zero_grad()\n",
    "            outputs = model(batch_X)\n",
    "            loss = criterion(outputs, batch_y.unsqueeze(1))\n",
    "            loss.backward()\n",
    "            optimizer.step()\n",
    "\n",
    "            # Loss\n",
    "            train_loss += loss.item() * batch_X.size(0)\n",
    "\n",
    "            # Accuracy\n",
    "            if model_type == \"bin\":\n",
    "                predicted = (outputs > 0.5).float()\n",
    "            else:\n",
    "                predicted = torch.argmax(outputs, dim=1)\n",
    "            \n",
    "            correct_train += (predicted == batch_y.unsqueeze(1)).sum().item()\n",
    "            total_train += batch_y.size(0)\n",
    "\n",
    "        train_loss /= len(train_loader.dataset)\n",
    "        train_acc = correct_train / total_train\n",
    "        train_losses.append(train_loss)\n",
    "        \n",
    "        model.eval()\n",
    "        val_loss = 0\n",
    "        correct_val = 0\n",
    "        total_val = 0\n",
    "\n",
    "        with torch.no_grad():\n",
    "            for batch_X, batch_y in val_loader:\n",
    "                outputs = model(batch_X)\n",
    "                loss = criterion(outputs, batch_y.unsqueeze(1))\n",
    "                \n",
    "                # Loss\n",
    "                val_loss += loss.item() * batch_X.size(0)\n",
    "\n",
    "                # Accuracy\n",
    "                if model_type == \"bin\":\n",
    "                    predicted = (outputs > 0.5).float()\n",
    "                else:\n",
    "                    predicted = torch.argmax(outputs, dim=1)\n",
    "                correct_val += (predicted == batch_y.unsqueeze(1)).sum().item()\n",
    "                total_val += batch_y.size(0)\n",
    "\n",
    "            val_loss /= len(val_loader.dataset)\n",
    "            val_acc = correct_val / total_val\n",
    "            val_losses.append(val_loss)\n",
    "            \n",
    "        print(f'Epoch {epoch+1}/{epoch_count}, Train Loss: {train_loss:.4f}, Train Acc: {train_acc:.2f}, Val Loss: {val_loss:.4f}, Val Acc: {val_acc:.2f}')\n",
    "        # print(f'Epoch {epoch+1}/{epoch_count}, Train Loss: {train_loss:.4f}, Val Loss: {val_loss:.4f}')\n",
    "        \n",
    "        # Early stopping check\n",
    "        if val_loss < best_val_loss:\n",
    "            best_val_loss = val_loss\n",
    "            no_improve_count = 0\n",
    "        else:\n",
    "            no_improve_count += 1\n",
    "        \n",
    "        if no_improve_count >= patience:\n",
    "            print('Early stopping')\n",
    "            break\n",
    "        \n",
    "    return train_losses, val_losses"
   ]
  },
  {
   "cell_type": "code",
   "execution_count": 81,
   "metadata": {},
   "outputs": [
    {
     "name": "stderr",
     "output_type": "stream",
     "text": [
      "Epoch 1: 100%|██████████| 277/277 [00:18<00:00, 14.76it/s]\n"
     ]
    },
    {
     "name": "stdout",
     "output_type": "stream",
     "text": [
      "Epoch 1/50, Train Loss: 0.6291, Train Acc: 0.61, Val Loss: 0.6966, Val Acc: 0.61\n"
     ]
    },
    {
     "name": "stderr",
     "output_type": "stream",
     "text": [
      "Epoch 2: 100%|██████████| 277/277 [00:17<00:00, 15.72it/s]\n"
     ]
    },
    {
     "name": "stdout",
     "output_type": "stream",
     "text": [
      "Epoch 2/50, Train Loss: 0.6246, Train Acc: 0.62, Val Loss: 0.6824, Val Acc: 0.62\n"
     ]
    },
    {
     "name": "stderr",
     "output_type": "stream",
     "text": [
      "Epoch 3: 100%|██████████| 277/277 [00:19<00:00, 14.47it/s]\n"
     ]
    },
    {
     "name": "stdout",
     "output_type": "stream",
     "text": [
      "Epoch 3/50, Train Loss: 0.6193, Train Acc: 0.62, Val Loss: 0.6785, Val Acc: 0.62\n"
     ]
    },
    {
     "name": "stderr",
     "output_type": "stream",
     "text": [
      "Epoch 4: 100%|██████████| 277/277 [00:16<00:00, 16.44it/s]\n"
     ]
    },
    {
     "name": "stdout",
     "output_type": "stream",
     "text": [
      "Epoch 4/50, Train Loss: 0.6166, Train Acc: 0.62, Val Loss: 0.7459, Val Acc: 0.58\n"
     ]
    },
    {
     "name": "stderr",
     "output_type": "stream",
     "text": [
      "Epoch 5: 100%|██████████| 277/277 [00:16<00:00, 16.42it/s]\n"
     ]
    },
    {
     "name": "stdout",
     "output_type": "stream",
     "text": [
      "Epoch 5/50, Train Loss: 0.6165, Train Acc: 0.62, Val Loss: 0.6781, Val Acc: 0.61\n"
     ]
    },
    {
     "name": "stderr",
     "output_type": "stream",
     "text": [
      "Epoch 6: 100%|██████████| 277/277 [00:18<00:00, 14.60it/s]\n"
     ]
    },
    {
     "name": "stdout",
     "output_type": "stream",
     "text": [
      "Epoch 6/50, Train Loss: 0.6114, Train Acc: 0.63, Val Loss: 0.6839, Val Acc: 0.62\n"
     ]
    },
    {
     "name": "stderr",
     "output_type": "stream",
     "text": [
      "Epoch 7: 100%|██████████| 277/277 [00:18<00:00, 15.34it/s]\n"
     ]
    },
    {
     "name": "stdout",
     "output_type": "stream",
     "text": [
      "Epoch 7/50, Train Loss: 0.6089, Train Acc: 0.63, Val Loss: 0.6800, Val Acc: 0.61\n"
     ]
    },
    {
     "name": "stderr",
     "output_type": "stream",
     "text": [
      "Epoch 8: 100%|██████████| 277/277 [00:17<00:00, 15.62it/s]\n"
     ]
    },
    {
     "name": "stdout",
     "output_type": "stream",
     "text": [
      "Epoch 8/50, Train Loss: 0.6071, Train Acc: 0.64, Val Loss: 0.6731, Val Acc: 0.61\n"
     ]
    },
    {
     "name": "stderr",
     "output_type": "stream",
     "text": [
      "Epoch 9: 100%|██████████| 277/277 [00:17<00:00, 16.15it/s]\n"
     ]
    },
    {
     "name": "stdout",
     "output_type": "stream",
     "text": [
      "Epoch 9/50, Train Loss: 0.6005, Train Acc: 0.64, Val Loss: 0.7092, Val Acc: 0.59\n"
     ]
    },
    {
     "name": "stderr",
     "output_type": "stream",
     "text": [
      "Epoch 10: 100%|██████████| 277/277 [00:17<00:00, 15.40it/s]\n"
     ]
    },
    {
     "name": "stdout",
     "output_type": "stream",
     "text": [
      "Epoch 10/50, Train Loss: 0.5969, Train Acc: 0.65, Val Loss: 0.6832, Val Acc: 0.61\n"
     ]
    },
    {
     "name": "stderr",
     "output_type": "stream",
     "text": [
      "Epoch 11: 100%|██████████| 277/277 [00:17<00:00, 15.58it/s]\n"
     ]
    },
    {
     "name": "stdout",
     "output_type": "stream",
     "text": [
      "Epoch 11/50, Train Loss: 0.5960, Train Acc: 0.65, Val Loss: 0.7169, Val Acc: 0.58\n"
     ]
    },
    {
     "name": "stderr",
     "output_type": "stream",
     "text": [
      "Epoch 12: 100%|██████████| 277/277 [00:16<00:00, 16.81it/s]\n"
     ]
    },
    {
     "name": "stdout",
     "output_type": "stream",
     "text": [
      "Epoch 12/50, Train Loss: 0.5969, Train Acc: 0.65, Val Loss: 0.7037, Val Acc: 0.58\n"
     ]
    },
    {
     "name": "stderr",
     "output_type": "stream",
     "text": [
      "Epoch 13: 100%|██████████| 277/277 [00:16<00:00, 16.46it/s]\n"
     ]
    },
    {
     "name": "stdout",
     "output_type": "stream",
     "text": [
      "Epoch 13/50, Train Loss: 0.5897, Train Acc: 0.65, Val Loss: 0.6897, Val Acc: 0.61\n",
      "Early stopping\n"
     ]
    }
   ],
   "source": [
    "train_losses, val_losses = train_model(\n",
    "    model=bin_transformer_model,\n",
    "    criterion=bin_transformer_criterion,\n",
    "    optimizer=bin_transformer_optimizer,\n",
    "    train_loader=train_loader_bin,\n",
    "    val_loader=val_loader_bin, \n",
    "    model_type=\"bin\", \n",
    "    epoch_count=50\n",
    ")"
   ]
  }
 ],
 "metadata": {
  "kernelspec": {
   "display_name": "Python 3",
   "language": "python",
   "name": "python3"
  },
  "language_info": {
   "codemirror_mode": {
    "name": "ipython",
    "version": 3
   },
   "file_extension": ".py",
   "mimetype": "text/x-python",
   "name": "python",
   "nbconvert_exporter": "python",
   "pygments_lexer": "ipython3",
   "version": "3.10.14"
  }
 },
 "nbformat": 4,
 "nbformat_minor": 4
}
