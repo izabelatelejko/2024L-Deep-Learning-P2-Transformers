{
 "cells": [
  {
   "cell_type": "code",
   "execution_count": 1,
   "metadata": {},
   "outputs": [],
   "source": [
    "from tqdm import tqdm\n",
    "import numpy as np\n",
    "import torch\n",
    "import torch.nn as nn\n",
    "import torch.optim as optim\n",
    "import matplotlib.pyplot as plt\n",
    "import librosa\n",
    "from sklearn.model_selection import train_test_split\n",
    "\n",
    "from src.preprocess import transform_to_data_loader\n",
    "from src.train import train_model\n",
    "\n",
    "from torchinfo import summary\n",
    "from torchaudio.transforms import MFCC"
   ]
  },
  {
   "cell_type": "markdown",
   "metadata": {},
   "source": [
    "### Silence detection"
   ]
  },
  {
   "cell_type": "code",
   "execution_count": 2,
   "metadata": {},
   "outputs": [],
   "source": [
    "import random\n",
    "\n",
    "device = torch.device(\"cuda\" if torch.cuda.is_available() else \"cpu\")"
   ]
  },
  {
   "cell_type": "code",
   "execution_count": 3,
   "metadata": {},
   "outputs": [],
   "source": [
    "silence = np.load(\"silence.npy\")\n",
    "sound = np.load(\"augmented_data.npy\")\n",
    "\n",
    "sound_indices = random.sample(range(1, sound.shape[0]), silence.shape[0])\n",
    "sound = sound[sound_indices]\n"
   ]
  },
  {
   "cell_type": "code",
   "execution_count": 4,
   "metadata": {},
   "outputs": [],
   "source": [
    "X_silence = np.concatenate((silence, sound), 0)\n",
    "y_silence = np.concatenate((np.ones(silence.shape[0]), np.zeros(sound.shape[0])), 0)"
   ]
  },
  {
   "cell_type": "code",
   "execution_count": 6,
   "metadata": {},
   "outputs": [],
   "source": [
    "X_train, X_test, y_train, y_test = train_test_split(\n",
    "    X_silence, y_silence, test_size=0.2, random_state=42\n",
    ")\n",
    "\n",
    "X_train = np.expand_dims(X_train, 1)\n",
    "X_test = np.expand_dims(X_test, 1)"
   ]
  },
  {
   "cell_type": "code",
   "execution_count": 7,
   "metadata": {},
   "outputs": [],
   "source": [
    "train_dl = transform_to_data_loader(X_train, y_train, device=device)\n",
    "val_dl = transform_to_data_loader(X_test, y_test, device=device)"
   ]
  },
  {
   "cell_type": "markdown",
   "metadata": {},
   "source": [
    "## BI-LSTM"
   ]
  },
  {
   "cell_type": "code",
   "execution_count": 14,
   "metadata": {},
   "outputs": [],
   "source": [
    "class BiLSTM(nn.Module):\n",
    "    \n",
    "    def __init__(self, input_size, hidden_size, dropout, fc_size, num_layers):\n",
    "        super().__init__()\n",
    "        self.lstm = nn.LSTM(\n",
    "            input_size=input_size, \n",
    "            hidden_size=hidden_size, \n",
    "            batch_first=True, \n",
    "            bidirectional=True, \n",
    "            num_layers=num_layers,\n",
    "            dropout=dropout,\n",
    "        )\n",
    "        self.dropout = nn.Dropout(dropout)\n",
    "        self.fc1 = nn.Linear(2*hidden_size, fc_size)  # *2 because of bidirectional\n",
    "        self.fc2 = nn.Linear(fc_size, 1)\n",
    "        self.bc1 = nn.BatchNorm1d(2*hidden_size)\n",
    "        self.bc2 = nn.BatchNorm1d(fc_size)\n",
    "        self.sigmoid = nn.Sigmoid()\n",
    "        self.relu = nn.ReLU()\n",
    "\n",
    "    def forward(self, x):\n",
    "        out = self.lstm(x)[0][:, -1, :]\n",
    "        out = self.bc1(out)\n",
    "        out = self.fc1(out)\n",
    "        out = self.dropout(out)\n",
    "        out = self.relu(out)\n",
    "        out = self.bc2(out)\n",
    "        out = self.fc2(out)\n",
    "        out = self.sigmoid(out)\n",
    "        return out"
   ]
  },
  {
   "cell_type": "code",
   "execution_count": 15,
   "metadata": {},
   "outputs": [
    {
     "name": "stderr",
     "output_type": "stream",
     "text": [
      "c:\\Users\\lukgr\\anaconda3\\envs\\venv\\lib\\site-packages\\torch\\nn\\modules\\rnn.py:83: UserWarning: dropout option adds dropout after all but last recurrent layer, so non-zero dropout expects num_layers greater than 1, but got dropout=0.3 and num_layers=1\n",
      "  warnings.warn(\"dropout option adds dropout after all but last \"\n"
     ]
    },
    {
     "data": {
      "text/plain": [
       "==========================================================================================\n",
       "Layer (type:depth-idx)                   Output Shape              Param #\n",
       "==========================================================================================\n",
       "BiLSTM                                   [1, 1]                    --\n",
       "├─LSTM: 1-1                              [1, 1, 64]                4,104,704\n",
       "├─BatchNorm1d: 1-2                       [1, 64]                   128\n",
       "├─Linear: 1-3                            [1, 32]                   2,080\n",
       "├─Dropout: 1-4                           [1, 32]                   --\n",
       "├─ReLU: 1-5                              [1, 32]                   --\n",
       "├─BatchNorm1d: 1-6                       [1, 32]                   64\n",
       "├─Linear: 1-7                            [1, 1]                    33\n",
       "├─Sigmoid: 1-8                           [1, 1]                    --\n",
       "==========================================================================================\n",
       "Total params: 4,107,009\n",
       "Trainable params: 4,107,009\n",
       "Non-trainable params: 0\n",
       "Total mult-adds (M): 4.11\n",
       "==========================================================================================\n",
       "Input size (MB): 0.06\n",
       "Forward/backward pass size (MB): 0.00\n",
       "Params size (MB): 16.43\n",
       "Estimated Total Size (MB): 16.49\n",
       "=========================================================================================="
      ]
     },
     "execution_count": 15,
     "metadata": {},
     "output_type": "execute_result"
    }
   ],
   "source": [
    "input_size = 16000\n",
    "hidden_size = 32\n",
    "dropout = 0.3\n",
    "num_layers = 1\n",
    "fc_size = 32\n",
    "\n",
    "bilstm_model = BiLSTM(input_size, hidden_size, dropout, fc_size, num_layers).to(device)\n",
    "bilstm_criterion = nn.BCELoss()\n",
    "bilstm_optimizer = optim.Adam(bilstm_model.parameters(), weight_decay=0.0001)\n",
    "\n",
    "summary(bilstm_model, (1, 1, 16000))"
   ]
  },
  {
   "cell_type": "code",
   "execution_count": 16,
   "metadata": {},
   "outputs": [
    {
     "name": "stderr",
     "output_type": "stream",
     "text": [
      "Epoch 1: 100%|██████████| 55/55 [00:00<00:00, 68.28it/s]\n"
     ]
    },
    {
     "name": "stdout",
     "output_type": "stream",
     "text": [
      "Epoch 1/50, Train Loss: 0.5834, Train Acc: 0.67, Val Loss: 0.4751, Val Acc: 0.82\n"
     ]
    },
    {
     "name": "stderr",
     "output_type": "stream",
     "text": [
      "Epoch 2: 100%|██████████| 55/55 [00:00<00:00, 83.97it/s]\n"
     ]
    },
    {
     "name": "stdout",
     "output_type": "stream",
     "text": [
      "Epoch 2/50, Train Loss: 0.3665, Train Acc: 0.87, Val Loss: 0.3675, Val Acc: 0.85\n"
     ]
    },
    {
     "name": "stderr",
     "output_type": "stream",
     "text": [
      "Epoch 3: 100%|██████████| 55/55 [00:00<00:00, 84.62it/s]\n"
     ]
    },
    {
     "name": "stdout",
     "output_type": "stream",
     "text": [
      "Epoch 3/50, Train Loss: 0.2254, Train Acc: 0.91, Val Loss: 0.3033, Val Acc: 0.86\n"
     ]
    },
    {
     "name": "stderr",
     "output_type": "stream",
     "text": [
      "Epoch 4: 100%|██████████| 55/55 [00:00<00:00, 81.11it/s]\n"
     ]
    },
    {
     "name": "stdout",
     "output_type": "stream",
     "text": [
      "Epoch 4/50, Train Loss: 0.1587, Train Acc: 0.94, Val Loss: 0.3001, Val Acc: 0.86\n"
     ]
    },
    {
     "name": "stderr",
     "output_type": "stream",
     "text": [
      "Epoch 5: 100%|██████████| 55/55 [00:00<00:00, 87.30it/s]\n"
     ]
    },
    {
     "name": "stdout",
     "output_type": "stream",
     "text": [
      "Epoch 5/50, Train Loss: 0.1243, Train Acc: 0.95, Val Loss: 0.3092, Val Acc: 0.86\n"
     ]
    },
    {
     "name": "stderr",
     "output_type": "stream",
     "text": [
      "Epoch 6: 100%|██████████| 55/55 [00:00<00:00, 84.45it/s]\n"
     ]
    },
    {
     "name": "stdout",
     "output_type": "stream",
     "text": [
      "Epoch 6/50, Train Loss: 0.1141, Train Acc: 0.95, Val Loss: 0.3335, Val Acc: 0.88\n"
     ]
    },
    {
     "name": "stderr",
     "output_type": "stream",
     "text": [
      "Epoch 7: 100%|██████████| 55/55 [00:00<00:00, 91.29it/s]"
     ]
    },
    {
     "name": "stdout",
     "output_type": "stream",
     "text": [
      "Epoch 7/50, Train Loss: 0.0989, Train Acc: 0.96, Val Loss: 0.3427, Val Acc: 0.88\n",
      "Early stopping\n"
     ]
    },
    {
     "name": "stderr",
     "output_type": "stream",
     "text": [
      "\n"
     ]
    }
   ],
   "source": [
    "bilstm_train_losses, bilstm_val_losses = train_model(\n",
    "    model=bilstm_model,\n",
    "    criterion=bilstm_criterion,\n",
    "    optimizer=bilstm_optimizer,\n",
    "    train_loader=train_dl,\n",
    "    val_loader=val_dl, \n",
    "    model_type=\"bin\", \n",
    "    epoch_count=50,\n",
    "    early_stopping=True,\n",
    "    device=device\n",
    ")"
   ]
  },
  {
   "cell_type": "code",
   "execution_count": 17,
   "metadata": {},
   "outputs": [
    {
     "data": {
      "image/png": "[encoded data removed]",
      "text/plain": [
       "<Figure size 640x480 with 1 Axes>"
      ]
     },
     "metadata": {},
     "output_type": "display_data"
    }
   ],
   "source": [
    "plt.plot(bilstm_train_losses)\n",
    "plt.plot(bilstm_val_losses)\n",
    "plt.legend([\"Train loss\", \"Val loss\"])\n",
    "plt.show()"
   ]
  },
  {
   "cell_type": "markdown",
   "metadata": {},
   "source": [
    "## GRU"
   ]
  },
  {
   "cell_type": "code",
   "execution_count": 18,
   "metadata": {},
   "outputs": [],
   "source": [
    "class GRU(nn.Module):\n",
    "    \n",
    "    def __init__(self, input_size, hidden_size, dropout, fc_size, num_layers):\n",
    "        super().__init__()\n",
    "        self.lstm = nn.GRU(\n",
    "            input_size=input_size, \n",
    "            hidden_size=hidden_size, \n",
    "            batch_first=True, \n",
    "            num_layers=num_layers,\n",
    "            dropout=dropout,\n",
    "        )\n",
    "        self.dropout = nn.Dropout(dropout)\n",
    "        self.fc1 = nn.Linear(hidden_size, 1)\n",
    "        self.fc2 = nn.Linear(fc_size, 1)\n",
    "        self.bc1 = nn.BatchNorm1d(hidden_size)\n",
    "        self.bc2 = nn.BatchNorm1d(fc_size)\n",
    "        self.sigmoid = nn.Sigmoid()\n",
    "        self.relu = nn.ReLU()\n",
    "\n",
    "    def forward(self, x):\n",
    "        out = self.lstm(x)[0][:, -1, :]\n",
    "        out = self.dropout(out)\n",
    "        out = self.bc1(out)\n",
    "        out = self.fc1(out)\n",
    "        out = self.dropout(out)\n",
    "        out = self.relu(out)\n",
    "        out = self.bc2(out)\n",
    "        out = self.fc2(out)\n",
    "        out = self.sigmoid(out)\n",
    "        return out"
   ]
  },
  {
   "cell_type": "code",
   "execution_count": 19,
   "metadata": {},
   "outputs": [
    {
     "data": {
      "text/plain": [
       "==========================================================================================\n",
       "Layer (type:depth-idx)                   Output Shape              Param #\n",
       "==========================================================================================\n",
       "BiLSTM                                   [1, 1]                    --\n",
       "├─LSTM: 1-1                              [1, 1, 64]                4,104,704\n",
       "├─BatchNorm1d: 1-2                       [1, 64]                   128\n",
       "├─Linear: 1-3                            [1, 32]                   2,080\n",
       "├─Dropout: 1-4                           [1, 32]                   --\n",
       "├─ReLU: 1-5                              [1, 32]                   --\n",
       "├─BatchNorm1d: 1-6                       [1, 32]                   64\n",
       "├─Linear: 1-7                            [1, 1]                    33\n",
       "├─Sigmoid: 1-8                           [1, 1]                    --\n",
       "==========================================================================================\n",
       "Total params: 4,107,009\n",
       "Trainable params: 4,107,009\n",
       "Non-trainable params: 0\n",
       "Total mult-adds (M): 4.11\n",
       "==========================================================================================\n",
       "Input size (MB): 0.06\n",
       "Forward/backward pass size (MB): 0.00\n",
       "Params size (MB): 16.43\n",
       "Estimated Total Size (MB): 16.49\n",
       "=========================================================================================="
      ]
     },
     "execution_count": 19,
     "metadata": {},
     "output_type": "execute_result"
    }
   ],
   "source": [
    "input_size = 16000\n",
    "hidden_size = 32\n",
    "dropout = 0.3\n",
    "num_layers = 1\n",
    "fc_size = 32\n",
    "\n",
    "gru_model = BiLSTM(input_size, hidden_size, dropout, fc_size, num_layers).to(device)\n",
    "gru_criterion = nn.BCELoss()\n",
    "gru_optimizer = optim.Adam(gru_model.parameters(), weight_decay=0.0001)\n",
    "\n",
    "summary(gru_model, (1, 1, 16000))"
   ]
  },
  {
   "cell_type": "code",
   "execution_count": 20,
   "metadata": {},
   "outputs": [
    {
     "name": "stderr",
     "output_type": "stream",
     "text": [
      "Epoch 1: 100%|██████████| 55/55 [00:00<00:00, 74.81it/s]\n"
     ]
    },
    {
     "name": "stdout",
     "output_type": "stream",
     "text": [
      "Epoch 1/50, Train Loss: 0.5776, Train Acc: 0.67, Val Loss: 0.4559, Val Acc: 0.83\n"
     ]
    },
    {
     "name": "stderr",
     "output_type": "stream",
     "text": [
      "Epoch 2: 100%|██████████| 55/55 [00:00<00:00, 81.96it/s]\n"
     ]
    },
    {
     "name": "stdout",
     "output_type": "stream",
     "text": [
      "Epoch 2/50, Train Loss: 0.3570, Train Acc: 0.87, Val Loss: 0.3454, Val Acc: 0.86\n"
     ]
    },
    {
     "name": "stderr",
     "output_type": "stream",
     "text": [
      "Epoch 3: 100%|██████████| 55/55 [00:00<00:00, 90.31it/s]\n"
     ]
    },
    {
     "name": "stdout",
     "output_type": "stream",
     "text": [
      "Epoch 3/50, Train Loss: 0.2225, Train Acc: 0.91, Val Loss: 0.2832, Val Acc: 0.86\n"
     ]
    },
    {
     "name": "stderr",
     "output_type": "stream",
     "text": [
      "Epoch 4: 100%|██████████| 55/55 [00:00<00:00, 81.91it/s]\n"
     ]
    },
    {
     "name": "stdout",
     "output_type": "stream",
     "text": [
      "Epoch 4/50, Train Loss: 0.1579, Train Acc: 0.93, Val Loss: 0.2765, Val Acc: 0.86\n"
     ]
    },
    {
     "name": "stderr",
     "output_type": "stream",
     "text": [
      "Epoch 5: 100%|██████████| 55/55 [00:00<00:00, 86.21it/s]\n"
     ]
    },
    {
     "name": "stdout",
     "output_type": "stream",
     "text": [
      "Epoch 5/50, Train Loss: 0.1212, Train Acc: 0.95, Val Loss: 0.2866, Val Acc: 0.88\n"
     ]
    },
    {
     "name": "stderr",
     "output_type": "stream",
     "text": [
      "Epoch 6: 100%|██████████| 55/55 [00:00<00:00, 85.54it/s]\n"
     ]
    },
    {
     "name": "stdout",
     "output_type": "stream",
     "text": [
      "Epoch 6/50, Train Loss: 0.1124, Train Acc: 0.95, Val Loss: 0.3294, Val Acc: 0.88\n"
     ]
    },
    {
     "name": "stderr",
     "output_type": "stream",
     "text": [
      "Epoch 7: 100%|██████████| 55/55 [00:00<00:00, 81.54it/s]\n"
     ]
    },
    {
     "name": "stdout",
     "output_type": "stream",
     "text": [
      "Epoch 7/50, Train Loss: 0.0971, Train Acc: 0.96, Val Loss: 0.3391, Val Acc: 0.89\n",
      "Early stopping\n"
     ]
    }
   ],
   "source": [
    "gru_train_losses, gru_val_losses = train_model(\n",
    "    model=gru_model,\n",
    "    criterion=gru_criterion,\n",
    "    optimizer=gru_optimizer,\n",
    "    train_loader=train_dl,\n",
    "    val_loader=val_dl, \n",
    "    model_type=\"bin\", \n",
    "    epoch_count=50,\n",
    "    early_stopping=True,\n",
    "    device=device\n",
    ")"
   ]
  },
  {
   "cell_type": "code",
   "execution_count": 21,
   "metadata": {},
   "outputs": [
    {
     "data": {
      "image/png": "[encoded data removed]",
      "text/plain": [
       "<Figure size 640x480 with 1 Axes>"
      ]
     },
     "metadata": {},
     "output_type": "display_data"
    }
   ],
   "source": [
    "plt.plot(gru_train_losses)\n",
    "plt.plot(gru_val_losses)\n",
    "plt.legend([\"Train loss\", \"Val loss\"])\n",
    "plt.show()"
   ]
  },
  {
   "cell_type": "markdown",
   "metadata": {},
   "source": [
    "## Transformer"
   ]
  },
  {
   "cell_type": "code",
   "execution_count": 10,
   "metadata": {},
   "outputs": [],
   "source": [
    "transform = MFCC(sample_rate=16000, n_mfcc=10, melkwargs={\"n_fft\": 400, \"hop_length\": 315, \"n_mels\": 20, \"center\": False})\n",
    "X_silence_trans = transform(torch.from_numpy(X_silence))\n",
    "\n",
    "X_train, X_test, y_train, y_test = train_test_split(\n",
    "    X_silence_trans, y_silence, test_size=0.2, random_state=222\n",
    ")"
   ]
  },
  {
   "cell_type": "code",
   "execution_count": 10,
   "metadata": {},
   "outputs": [
    {
     "name": "stderr",
     "output_type": "stream",
     "text": [
      "c:\\Users\\lukgr\\Desktop\\Deep_learning\\PROJEKT_2\\2024L-Deep-Learning-P2-Transformers\\src\\preprocess.py:167: UserWarning: To copy construct from a tensor, it is recommended to use sourceTensor.clone().detach() or sourceTensor.clone().detach().requires_grad_(True), rather than torch.tensor(sourceTensor).\n",
      "  X_t = torch.tensor(X, dtype=torch.float32)\n"
     ]
    }
   ],
   "source": [
    "train_dl = transform_to_data_loader(X_train, y_train, device=device)\n",
    "val_dl = transform_to_data_loader(X_test, y_test, device=device)"
   ]
  },
  {
   "cell_type": "code",
   "execution_count": 12,
   "metadata": {},
   "outputs": [],
   "source": [
    "class Transformer(nn.Module):\n",
    "    \n",
    "    def __init__(self, d_model, n_head, num_layers, dropout, fc_size):\n",
    "        super().__init__()\n",
    "        self.trans_enc_layer = nn.TransformerEncoderLayer(\n",
    "            d_model=d_model, \n",
    "            nhead=n_head, \n",
    "            batch_first=True, \n",
    "            activation=\"relu\", \n",
    "            dropout=dropout\n",
    "        ).to(device)\n",
    "        self.transformer_encoder = nn.TransformerEncoder(self.trans_enc_layer, num_layers=num_layers).to(device)\n",
    "        self.dropout = nn.Dropout(dropout)\n",
    "        self.fc1 = nn.Linear(d_model, fc_size)\n",
    "        self.fc2 = nn.Linear(fc_size, 1)\n",
    "        self.bc1 = nn.BatchNorm1d(d_model)\n",
    "        self.bc2 = nn.BatchNorm1d(fc_size)\n",
    "        self.sigmoid = nn.Sigmoid()\n",
    "        self.relu = nn.ReLU()\n",
    "\n",
    "    def forward(self, x):\n",
    "        out = self.transformer_encoder(x)[:, -1, :]\n",
    "        out = self.dropout(out)\n",
    "        out = self.bc1(out)\n",
    "        out = self.fc1(out)\n",
    "        out = self.dropout(out)\n",
    "        out = self.relu(out)\n",
    "        out = self.bc2(out)\n",
    "        out = self.fc2(out)\n",
    "        out = self.dropout(out)\n",
    "        out = self.sigmoid(out)\n",
    "        return out"
   ]
  },
  {
   "cell_type": "code",
   "execution_count": 14,
   "metadata": {},
   "outputs": [
    {
     "name": "stderr",
     "output_type": "stream",
     "text": [
      "c:\\Users\\lukgr\\anaconda3\\envs\\venv\\lib\\site-packages\\torch\\nn\\modules\\transformer.py:286: UserWarning: enable_nested_tensor is True, but self.use_nested_tensor is False because encoder_layer.self_attn.num_heads is odd\n",
      "  warnings.warn(f\"enable_nested_tensor is True, but self.use_nested_tensor is False because {why_not_sparsity_fast_path}\")\n",
      "c:\\Users\\lukgr\\anaconda3\\envs\\venv\\lib\\site-packages\\torch\\nn\\functional.py:5476: UserWarning: 1Torch was not compiled with flash attention. (Triggered internally at C:\\cb\\pytorch_1000000000000\\work\\aten\\src\\ATen\\native\\transformers\\cuda\\sdp_utils.cpp:263.)\n",
      "  attn_output = scaled_dot_product_attention(q, k, v, attn_mask, dropout_p, is_causal)\n"
     ]
    },
    {
     "data": {
      "text/plain": [
       "===============================================================================================\n",
       "Layer (type:depth-idx)                        Output Shape              Param #\n",
       "===============================================================================================\n",
       "Transformer                                   [1, 1]                    217,298\n",
       "├─TransformerEncoder: 1-1                     [1, 10, 50]               --\n",
       "│    └─ModuleList: 2-1                        --                        --\n",
       "│    │    └─TransformerEncoderLayer: 3-1      [1, 10, 50]               217,298\n",
       "├─Dropout: 1-2                                [1, 50]                   --\n",
       "├─BatchNorm1d: 1-3                            [1, 50]                   100\n",
       "├─Linear: 1-4                                 [1, 32]                   1,632\n",
       "├─Dropout: 1-5                                [1, 32]                   --\n",
       "├─ReLU: 1-6                                   [1, 32]                   --\n",
       "├─BatchNorm1d: 1-7                            [1, 32]                   64\n",
       "├─Linear: 1-8                                 [1, 1]                    33\n",
       "├─Dropout: 1-9                                [1, 1]                    --\n",
       "├─Sigmoid: 1-10                               [1, 1]                    --\n",
       "===============================================================================================\n",
       "Total params: 436,425\n",
       "Trainable params: 436,425\n",
       "Non-trainable params: 0\n",
       "Total mult-adds (M): 0.21\n",
       "===============================================================================================\n",
       "Input size (MB): 0.00\n",
       "Forward/backward pass size (MB): 0.18\n",
       "Params size (MB): 0.84\n",
       "Estimated Total Size (MB): 1.01\n",
       "==============================================================================================="
      ]
     },
     "execution_count": 14,
     "metadata": {},
     "output_type": "execute_result"
    }
   ],
   "source": [
    "d_model = 50\n",
    "n_head = 5\n",
    "num_layers = 1\n",
    "dropout = 0.3 \n",
    "fc_size = 32\n",
    "\n",
    "transformer_model = Transformer(d_model, n_head, num_layers, dropout, fc_size).to(device)\n",
    "transformer_criterion = nn.BCELoss()\n",
    "transformer_optimizer = optim.Adam(transformer_model.parameters())\n",
    "\n",
    "summary(transformer_model, (1, 10, 50))"
   ]
  },
  {
   "cell_type": "code",
   "execution_count": 15,
   "metadata": {},
   "outputs": [
    {
     "name": "stderr",
     "output_type": "stream",
     "text": [
      "Epoch 1: 100%|██████████| 55/55 [00:01<00:00, 46.50it/s]\n"
     ]
    },
    {
     "name": "stdout",
     "output_type": "stream",
     "text": [
      "Epoch 1/50, Train Loss: 0.6370, Train Acc: 0.60, Val Loss: 0.4280, Val Acc: 0.85\n"
     ]
    },
    {
     "name": "stderr",
     "output_type": "stream",
     "text": [
      "Epoch 2: 100%|██████████| 55/55 [00:00<00:00, 112.64it/s]\n"
     ]
    },
    {
     "name": "stdout",
     "output_type": "stream",
     "text": [
      "Epoch 2/50, Train Loss: 0.5133, Train Acc: 0.71, Val Loss: 0.2709, Val Acc: 0.93\n"
     ]
    },
    {
     "name": "stderr",
     "output_type": "stream",
     "text": [
      "Epoch 3: 100%|██████████| 55/55 [00:00<00:00, 110.66it/s]\n"
     ]
    },
    {
     "name": "stdout",
     "output_type": "stream",
     "text": [
      "Epoch 3/50, Train Loss: 0.4134, Train Acc: 0.78, Val Loss: 0.1696, Val Acc: 0.95\n"
     ]
    },
    {
     "name": "stderr",
     "output_type": "stream",
     "text": [
      "Epoch 4: 100%|██████████| 55/55 [00:00<00:00, 113.40it/s]\n"
     ]
    },
    {
     "name": "stdout",
     "output_type": "stream",
     "text": [
      "Epoch 4/50, Train Loss: 0.3761, Train Acc: 0.79, Val Loss: 0.1450, Val Acc: 0.96\n"
     ]
    },
    {
     "name": "stderr",
     "output_type": "stream",
     "text": [
      "Epoch 5: 100%|██████████| 55/55 [00:00<00:00, 112.71it/s]\n"
     ]
    },
    {
     "name": "stdout",
     "output_type": "stream",
     "text": [
      "Epoch 5/50, Train Loss: 0.3603, Train Acc: 0.79, Val Loss: 0.1368, Val Acc: 0.95\n"
     ]
    },
    {
     "name": "stderr",
     "output_type": "stream",
     "text": [
      "Epoch 6: 100%|██████████| 55/55 [00:00<00:00, 112.88it/s]\n"
     ]
    },
    {
     "name": "stdout",
     "output_type": "stream",
     "text": [
      "Epoch 6/50, Train Loss: 0.3537, Train Acc: 0.80, Val Loss: 0.1249, Val Acc: 0.97\n"
     ]
    },
    {
     "name": "stderr",
     "output_type": "stream",
     "text": [
      "Epoch 7: 100%|██████████| 55/55 [00:00<00:00, 116.78it/s]\n"
     ]
    },
    {
     "name": "stdout",
     "output_type": "stream",
     "text": [
      "Epoch 7/50, Train Loss: 0.3370, Train Acc: 0.80, Val Loss: 0.1181, Val Acc: 0.96\n"
     ]
    },
    {
     "name": "stderr",
     "output_type": "stream",
     "text": [
      "Epoch 8: 100%|██████████| 55/55 [00:00<00:00, 114.35it/s]\n"
     ]
    },
    {
     "name": "stdout",
     "output_type": "stream",
     "text": [
      "Epoch 8/50, Train Loss: 0.3423, Train Acc: 0.80, Val Loss: 0.1176, Val Acc: 0.96\n"
     ]
    },
    {
     "name": "stderr",
     "output_type": "stream",
     "text": [
      "Epoch 9: 100%|██████████| 55/55 [00:00<00:00, 112.94it/s]\n"
     ]
    },
    {
     "name": "stdout",
     "output_type": "stream",
     "text": [
      "Epoch 9/50, Train Loss: 0.3358, Train Acc: 0.81, Val Loss: 0.1328, Val Acc: 0.96\n"
     ]
    },
    {
     "name": "stderr",
     "output_type": "stream",
     "text": [
      "Epoch 10: 100%|██████████| 55/55 [00:00<00:00, 111.09it/s]\n"
     ]
    },
    {
     "name": "stdout",
     "output_type": "stream",
     "text": [
      "Epoch 10/50, Train Loss: 0.3287, Train Acc: 0.81, Val Loss: 0.1084, Val Acc: 0.97\n"
     ]
    },
    {
     "name": "stderr",
     "output_type": "stream",
     "text": [
      "Epoch 11: 100%|██████████| 55/55 [00:00<00:00, 115.30it/s]\n"
     ]
    },
    {
     "name": "stdout",
     "output_type": "stream",
     "text": [
      "Epoch 11/50, Train Loss: 0.3252, Train Acc: 0.81, Val Loss: 0.1068, Val Acc: 0.97\n"
     ]
    },
    {
     "name": "stderr",
     "output_type": "stream",
     "text": [
      "Epoch 12: 100%|██████████| 55/55 [00:00<00:00, 113.40it/s]\n"
     ]
    },
    {
     "name": "stdout",
     "output_type": "stream",
     "text": [
      "Epoch 12/50, Train Loss: 0.3211, Train Acc: 0.81, Val Loss: 0.0995, Val Acc: 0.97\n"
     ]
    },
    {
     "name": "stderr",
     "output_type": "stream",
     "text": [
      "Epoch 13: 100%|██████████| 55/55 [00:00<00:00, 113.87it/s]\n"
     ]
    },
    {
     "name": "stdout",
     "output_type": "stream",
     "text": [
      "Epoch 13/50, Train Loss: 0.3278, Train Acc: 0.81, Val Loss: 0.1024, Val Acc: 0.97\n"
     ]
    },
    {
     "name": "stderr",
     "output_type": "stream",
     "text": [
      "Epoch 14: 100%|██████████| 55/55 [00:00<00:00, 109.03it/s]\n"
     ]
    },
    {
     "name": "stdout",
     "output_type": "stream",
     "text": [
      "Epoch 14/50, Train Loss: 0.3321, Train Acc: 0.81, Val Loss: 0.1111, Val Acc: 0.97\n"
     ]
    },
    {
     "name": "stderr",
     "output_type": "stream",
     "text": [
      "Epoch 15: 100%|██████████| 55/55 [00:00<00:00, 114.33it/s]\n"
     ]
    },
    {
     "name": "stdout",
     "output_type": "stream",
     "text": [
      "Epoch 15/50, Train Loss: 0.3212, Train Acc: 0.81, Val Loss: 0.1166, Val Acc: 0.97\n",
      "Early stopping\n"
     ]
    }
   ],
   "source": [
    "transformer_train_losses, transformer_val_losses = train_model(\n",
    "    model=transformer_model,\n",
    "    criterion=transformer_criterion,\n",
    "    optimizer=transformer_optimizer,\n",
    "    train_loader=train_dl,\n",
    "    val_loader=val_dl, \n",
    "    model_type=\"bin\", \n",
    "    epoch_count=50,\n",
    "    early_stopping=True,\n",
    "    device=device\n",
    ")"
   ]
  },
  {
   "cell_type": "code",
   "execution_count": 16,
   "metadata": {},
   "outputs": [
    {
     "data": {
      "image/png": "[encoded data removed]",
      "text/plain": [
       "<Figure size 640x480 with 1 Axes>"
      ]
     },
     "metadata": {},
     "output_type": "display_data"
    }
   ],
   "source": [
    "plt.plot(transformer_train_losses)\n",
    "plt.plot(transformer_val_losses)\n",
    "plt.legend([\"Train loss\", \"Val loss\"])\n",
    "plt.show()"
   ]
  }
 ],
 "metadata": {
  "kernelspec": {
   "display_name": "Python 3",
   "language": "python",
   "name": "python3"
  },
  "language_info": {
   "codemirror_mode": {
    "name": "ipython",
    "version": 3
   },
   "file_extension": ".py",
   "mimetype": "text/x-python",
   "name": "python",
   "nbconvert_exporter": "python",
   "pygments_lexer": "ipython3",
   "version": "3.10.14"
  }
 },
 "nbformat": 4,
 "nbformat_minor": 2
}
